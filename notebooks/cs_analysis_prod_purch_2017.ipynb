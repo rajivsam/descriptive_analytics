{
 "cells": [
  {
   "cell_type": "code",
   "execution_count": null,
   "id": "e2eefb77-67e0-4d3f-b065-0c7f56f63cd4",
   "metadata": {},
   "outputs": [],
   "source": [
    "import pandas as pd\n",
    "fp = \"../data/olist_prepared/SP_CS_2017.csv\"\n",
    "df = pd.read_csv(fp)\n",
    "week_cols = df.columns.tolist()"
   ]
  },
  {
   "cell_type": "code",
   "execution_count": null,
   "id": "5e6b50c1-5950-47e7-b886-5b337b092eb1",
   "metadata": {},
   "outputs": [],
   "source": [
    "df.index = week_cols\n"
   ]
  },
  {
   "cell_type": "code",
   "execution_count": null,
   "id": "e267b38c-c284-4391-b9a5-37633fac1c76",
   "metadata": {},
   "outputs": [],
   "source": [
    "df.loc[\"2\",\"3\"]"
   ]
  },
  {
   "cell_type": "code",
   "execution_count": null,
   "id": "b1a73cee-8687-455f-abcc-bf853b9bb73e",
   "metadata": {},
   "outputs": [],
   "source": [
    "succ_vals = []\n",
    "count = 0\n",
    "for i in df.index:\n",
    "    # if count == 0:\n",
    "    #     count += 1\n",
    "    #     continue\n",
    "    #else:\n",
    "    succ_vals.append(df.iloc[count, (count+1)])\n",
    "    count +=1\n",
    "    if count == (len(df.index) - 1):\n",
    "        break\n",
    "    "
   ]
  },
  {
   "cell_type": "code",
   "execution_count": null,
   "id": "2d34db10-cf29-4103-8a85-d540a3459e21",
   "metadata": {},
   "outputs": [],
   "source": [
    "df_succ = pd.DataFrame({\"succ_cs\": succ_vals})\n",
    "df_succ[\"week-num\"] = df_succ.index + 1\n",
    "fp = \"../data/olist_prepared/SP_2017_cs_succ_weeks.csv\"\n",
    "df_succ.to_csv(fp, index=False)"
   ]
  },
  {
   "cell_type": "code",
   "execution_count": null,
   "id": "b432d571-8111-4e86-9ae5-71ffa35f1211",
   "metadata": {},
   "outputs": [],
   "source": [
    "num_quantiles = 4\n",
    "\n",
    "# Define custom labels\n",
    "custom_labels = ['Q1', 'Q2', 'Q3', 'Q4']\n",
    "\n",
    "# Apply qcut with custom labels\n",
    "df_succ[\"bins\"] = pd.qcut(df_succ[\"succ_cs\"], q=num_quantiles, labels=custom_labels)\n"
   ]
  },
  {
   "cell_type": "code",
   "execution_count": null,
   "id": "39845bf0-e9a4-4032-8b43-c2f8baee9f52",
   "metadata": {},
   "outputs": [],
   "source": [
    "df_succ[\"succ_cs\"] = df_succ[\"succ_cs\"].round(2)"
   ]
  },
  {
   "cell_type": "code",
   "execution_count": null,
   "id": "76f51c9d-c93f-4f16-861b-3f192b087a1b",
   "metadata": {},
   "outputs": [],
   "source": [
    "import plotly.express as px\n",
    "# Create the scatter plot\n",
    "fig = px.scatter(df_succ, x='week-num', y='succ_cs', color=\"bins\", labels={\n",
    "                     \"week-num\": \"Week of 2017\",\n",
    "                     \"succ_cs\": \"Cosine Similarity with Next Week\"\n",
    "                 },\n",
    "                title=\"Cosine Similarity of Consecutive Weeks of 2017\")\n",
    "\n",
    "# Update layout for better readability\n",
    "fig.update_traces(textposition='top center')\n",
    "\n",
    "# Show the plot\n",
    "fig.show()"
   ]
  },
  {
   "cell_type": "code",
   "execution_count": null,
   "id": "7d9036ce-2dc4-47b2-87da-ab2416166722",
   "metadata": {},
   "outputs": [],
   "source": [
    "def quarter_label(x):\n",
    "    if x <= 13:\n",
    "        return \"Qtr-1\"\n",
    "    elif ((x > 13) and (x <=26)):\n",
    "        return \"Qtr-2\"\n",
    "    elif ((x > 26) and (x <=39)):\n",
    "        return \"Qtr-3\"\n",
    "    else:\n",
    "        return \"Qtr-4\"\n",
    "        \n",
    "df_succ[\"qtr\"] = df_succ[\"week-num\"].apply(quarter_label)\n"
   ]
  },
  {
   "cell_type": "code",
   "execution_count": null,
   "id": "56b7d4b7-0bea-441b-be84-9fd41cf0473d",
   "metadata": {},
   "outputs": [],
   "source": [
    "df_succ[\"SMA_4\"] = df_succ['succ_cs'].rolling(window=4).mean()"
   ]
  },
  {
   "cell_type": "code",
   "execution_count": null,
   "id": "8fbe5c25-2006-4f44-9e9d-45de1e71485c",
   "metadata": {},
   "outputs": [],
   "source": [
    "import plotly.express as px\n",
    "# Create the scatter plot\n",
    "fig = px.scatter(df_succ, x='week-num', y='SMA_4', color=\"bins\", labels={\n",
    "                     \"week-num\": \"Week of 2017\",\n",
    "                     \"succ_cs\": \"Cosine Similarity with Next Week\", \"qtr\": \"Quarter of 2017\",\\\n",
    "    \"SMA_4\": \"Monthly moving avg of consecutive weeks\"\n",
    "    \n",
    "    \n",
    "                 },\n",
    "                title=\"Moving Average Cosine Similarity of Consecutive Weeks of 2017\")\n",
    "\n",
    "# Update layout for better readability\n",
    "fig.update_traces(textposition='top center')\n",
    "\n",
    "# Show the plot\n",
    "fig.show()"
   ]
  },
  {
   "cell_type": "markdown",
   "id": "c69da623-b93d-49ed-a680-d18510839ea2",
   "metadata": {},
   "source": [
    "Context:\n",
    "This dataset has weekly purchases of frequently purchased inventory items. Each row of the dataset is revenue from the sale of a particular inventory item in SP. So each column represents the weekly sale amount. Now, if two weeks sell the same items, then these weeks would have high cosine similarity. Note that this does not mean that the weeks have to have the same revenue for these items. This simply means that weeks with high cosine similarity are weeks that had a sale of similar inventory items. This is useful for many reasons:\n",
    "1. Demand planners know when a group inventory items are in demand.\n",
    "2. Price setters can set prices appropriately at that time.\n",
    "\n",
    "Weeks with high cosine similarity are events that signal an affinity for groups of inventory items (columns) for a particular group of weeks (rows). The presence of weeks with high cosine similarity indicates that we have such affinities in our dataset. We will exploit this point later."
   ]
  },
  {
   "cell_type": "code",
   "execution_count": null,
   "id": "646ef226-a5ee-49e1-8a42-3b88fdf6542a",
   "metadata": {},
   "outputs": [],
   "source": [
    "import plotly.express as px\n",
    "\n",
    "fig = px.imshow(df, width=600, height=600)\n",
    "fig.show()"
   ]
  },
  {
   "cell_type": "markdown",
   "id": "33abf645-4438-4d29-9d24-b07927b9e04c",
   "metadata": {},
   "source": [
    "A review of the heatmap shows many square regions of correlation 0.4 as you move your eyes across the diagonal of the heat map. These are weeks that have high cosine similarity. I see 3 clusters for sure, can make a case for a 4 th cluster"
   ]
  },
  {
   "cell_type": "code",
   "execution_count": null,
   "id": "357be50c-5f63-44e4-833a-ec496ccc9826",
   "metadata": {},
   "outputs": [],
   "source": [
    "from sklearn.cluster import SpectralClustering\n",
    "clustering = SpectralClustering(n_clusters=4, affinity=\"precomputed\",\n",
    "        assign_labels='cluster_qr',\n",
    "        random_state=0).fit(df)"
   ]
  },
  {
   "cell_type": "code",
   "execution_count": null,
   "id": "084a4d2e-2ff6-4f30-83ef-00788ea3cf57",
   "metadata": {},
   "outputs": [],
   "source": [
    "clustering.n_neighbors"
   ]
  },
  {
   "cell_type": "code",
   "execution_count": null,
   "id": "6c5c173a-c4cb-4789-ba9b-8b3d8148d6be",
   "metadata": {},
   "outputs": [],
   "source": [
    "cluster_info = {\"woy\": week_cols, \"cluster\": clustering.labels_}"
   ]
  },
  {
   "cell_type": "code",
   "execution_count": null,
   "id": "11a0af7c-3615-4ff9-be84-8a288bfb934b",
   "metadata": {},
   "outputs": [],
   "source": [
    "df_cluster_info = pd.DataFrame.from_dict(cluster_info, orient=\"columns\")\n",
    "df_cluster_info[\"cluster\"] = df_cluster_info[\"cluster\"].astype(\"str\")\n",
    "df_cluster_info[\"woy\"] = df_cluster_info[\"woy\"].astype(int)\n",
    "fp_c = \"../data/olist_prepared/SP_2017_cs_cluster_info.csv\"\n",
    "df_cluster_info.to_csv(fp_c, index=False)"
   ]
  },
  {
   "cell_type": "code",
   "execution_count": null,
   "id": "ebe0b162-d1d1-4f52-aae7-078e94170277",
   "metadata": {},
   "outputs": [],
   "source": [
    "fp = \"../data/olist_prepared/SP_weekly_revenue.csv\"\n",
    "df_weekly_rev = pd.read_csv(fp)"
   ]
  },
  {
   "cell_type": "code",
   "execution_count": null,
   "id": "5651136f-eb03-40c0-8bb8-4a1ce4f56993",
   "metadata": {},
   "outputs": [],
   "source": [
    "filter_2017 = df_weekly_rev[\"year\"] == 2017\n",
    "df_weekly_rev_2017 = df_weekly_rev[filter_2017]\n",
    "df_weekly_rev_2017.loc[:, \"woy\"] = df_weekly_rev_2017[\"woy\"].astype(int)"
   ]
  },
  {
   "cell_type": "code",
   "execution_count": null,
   "id": "268bb206-bead-41a9-97b6-bc38d4c479fe",
   "metadata": {},
   "outputs": [],
   "source": [
    "df_result = pd.merge(df_cluster_info, df_weekly_rev_2017, on=\"woy\")"
   ]
  },
  {
   "cell_type": "code",
   "execution_count": null,
   "id": "3ad3bebe-1a08-4ad6-ae67-756014f51e5e",
   "metadata": {},
   "outputs": [],
   "source": [
    "fig = px.violin(df_result, y=\"weekly_revenue\", x=\"cluster\", box=True, points=\"all\")\n",
    "fig.show()"
   ]
  },
  {
   "cell_type": "code",
   "execution_count": null,
   "id": "dd81e369-3e46-4cca-bf20-0fecab78e81e",
   "metadata": {},
   "outputs": [],
   "source": [
    "fig = px.scatter(df_result, x='woy', y='weekly_revenue', text='cluster', color='cluster')\n",
    "\n",
    "# Update layout to show labels\n",
    "fig.update_traces(textposition='top center')\n",
    "\n",
    "fig.show()"
   ]
  }
 ],
 "metadata": {
  "language_info": {
   "name": "python"
  }
 },
 "nbformat": 4,
 "nbformat_minor": 5
}
