{
 "cells": [
  {
   "cell_type": "code",
   "execution_count": null,
   "id": "1aaefdeb-ddd7-4fee-8bf6-b4f829ba7a59",
   "metadata": {},
   "outputs": [],
   "source": [
    "import pandas as pd \n",
    "fp = \"../data/olist_prepared/olist_daily_orders_prepared.csv\"\n",
    "df = pd.read_csv(fp)"
   ]
  },
  {
   "cell_type": "code",
   "execution_count": null,
   "id": "a5ea9e60-9fe7-4de6-9bb6-d1d5412f005c",
   "metadata": {},
   "outputs": [],
   "source": [
    "df_geo_seg = df.groupby(\"customer_state\").agg({\"customer_id\": \"nunique\", \"order_id\": \"nunique\", \"price\": \"sum\"}).reset_index()"
   ]
  },
  {
   "cell_type": "code",
   "execution_count": null,
   "id": "3f003873-6d77-41d5-aa35-50f89a953ff0",
   "metadata": {},
   "outputs": [],
   "source": [
    "df_geo_seg.columns = [\"customer_state\", \"num_customers\", \"num_orders\", \"revenue\"]"
   ]
  },
  {
   "cell_type": "code",
   "execution_count": null,
   "id": "64a8f736-39cd-44b3-b829-3b424851dee7",
   "metadata": {},
   "outputs": [],
   "source": [
    "TOTAL_ORDERS = df_geo_seg[\"num_orders\"].sum()\n",
    "TOTAL_CUSTOMERS = df_geo_seg[\"num_customers\"].sum()"
   ]
  },
  {
   "cell_type": "code",
   "execution_count": null,
   "id": "ad8d0f40-6848-459a-81a6-0dd66f97dc6e",
   "metadata": {},
   "outputs": [],
   "source": [
    "df_geo_seg[\"order_pct\"] = (df_geo_seg[\"num_orders\"]/TOTAL_ORDERS)*100\n",
    "df_geo_seg[\"order_pct\"] = df_geo_seg[\"order_pct\"].round(3)\n",
    "df_geo_seg[\"cust_pct\"] = (df_geo_seg[\"num_customers\"]/TOTAL_CUSTOMERS)*100\n",
    "df_geo_seg[\"cust_pct\"] = df_geo_seg[\"cust_pct\"].round(3)"
   ]
  },
  {
   "cell_type": "code",
   "execution_count": null,
   "id": "e8bbadd2-3011-4a49-ba04-a42f6db6f113",
   "metadata": {},
   "outputs": [],
   "source": [
    "df_geo_seg_ord_by_opct = df_geo_seg.sort_values(by=\"order_pct\", ascending=False)"
   ]
  },
  {
   "cell_type": "code",
   "execution_count": null,
   "id": "2a62ac9c-1fb3-423b-815d-6ffc05989eac",
   "metadata": {},
   "outputs": [],
   "source": [
    "df_geo_seg_ord_by_cpct = df_geo_seg.sort_values(by=\"cust_pct\", ascending=False)"
   ]
  },
  {
   "cell_type": "code",
   "execution_count": null,
   "id": "e8f704c5-a3a3-48ad-b329-903153bf0f90",
   "metadata": {},
   "outputs": [],
   "source": [
    "fp_geo_seg = \"../data/olist_prepared/olist_geo_seg_data_prepared.csv\"\n",
    "df_geo_seg.to_csv(fp_geo_seg, index=False)"
   ]
  },
  {
   "cell_type": "code",
   "execution_count": null,
   "id": "a7645dbe-01d9-4389-aceb-c8fa22534f25",
   "metadata": {},
   "outputs": [],
   "source": []
  }
 ],
 "metadata": {
  "language_info": {
   "name": "python"
  }
 },
 "nbformat": 4,
 "nbformat_minor": 5
}
