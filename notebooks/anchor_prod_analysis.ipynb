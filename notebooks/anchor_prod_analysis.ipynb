{
 "cells": [
  {
   "cell_type": "code",
   "execution_count": null,
   "id": "2b3dd496-bb56-4a91-a522-321105120b0a",
   "metadata": {},
   "outputs": [],
   "source": [
    "import pandas as pd\n",
    "fp = \"../data/olist_prepared/freq_prod_weekly_sale_SP_2017.parquet\"\n",
    "df = pd.read_parquet(fp)"
   ]
  },
  {
   "cell_type": "code",
   "execution_count": null,
   "id": "c1edb525-61b5-4f51-be7a-03ddf52dbd88",
   "metadata": {},
   "outputs": [],
   "source": [
    "df_norm = df.div(df.sum(axis=1), axis=0)"
   ]
  },
  {
   "cell_type": "code",
   "execution_count": null,
   "id": "1c07d1b0-f6eb-4ac4-9042-a4b529e91406",
   "metadata": {},
   "outputs": [],
   "source": [
    "df_norm.max(axis=1).sort_values()"
   ]
  },
  {
   "cell_type": "code",
   "execution_count": null,
   "id": "5281d8f6-d770-4717-86b9-6088c43fbb6a",
   "metadata": {},
   "outputs": [],
   "source": []
  }
 ],
 "metadata": {
  "language_info": {
   "name": "python"
  }
 },
 "nbformat": 4,
 "nbformat_minor": 5
}
