{
 "cells": [
  {
   "cell_type": "markdown",
   "id": "517a06dd-29c6-4664-a349-40f90bc34d44",
   "metadata": {},
   "source": [
    "## Segmenting Revenue by Customer' and Products\n",
    "This is the first view of segmenting the store revenue by customers and products. This will be subsequently refined. We start with the customer data and products data. Similar to word frequencies in text data, this data exhibits long tail behavior. Some customers are very loyal, while most customers visit the store only once. A small number of products account for most of the purchases. Formally, this behaviour can be captured by a Zipf distribution. We will fit a Zipf distribution to this data and confirm that this is indeed a good choice with a goodness of fit test. The tail of these data is very, very long. To make the illustration, we will limit attention to customer's who make at least a threshold number of visits to the store. Similarly with the products data, we will limit attention to products purchased at least a threshold number of times."
   ]
  },
  {
   "cell_type": "code",
   "execution_count": null,
   "id": "108f2c12-b9fe-409f-82b1-017b86d840b1",
   "metadata": {},
   "outputs": [],
   "source": [
    "import pandas as pd\n",
    "fp_co = \"../data/olist_prepared/olist_2_year_customer_orders.csv\"\n",
    "df_co = pd.read_csv(fp_co)\n"
   ]
  },
  {
   "cell_type": "markdown",
   "id": "fc8a240e-e79a-49ed-903a-af4b14c1d8e4",
   "metadata": {},
   "source": [
    "# Note\n",
    "The probablity mass function of the Zip'f distribution with parameters $k,a$ is given by:\n",
    "\n",
    "$f(k,a) = \\frac{1}{\\zeta(a) k^{a}}$\n",
    "\n",
    "where:\n",
    "* $a$ is the shape parameter\n",
    "\n",
    "* $\\zeta(a)$ is the Riemann Zeta function"
   ]
  },
  {
   "cell_type": "code",
   "execution_count": null,
   "id": "393962ab-8ba9-49f2-bbc9-30871e66bea0",
   "metadata": {},
   "outputs": [],
   "source": [
    "THRESHOLD_COUNT_VALUE = 5\n",
    "filter_long_tail = df_co.order_count >= THRESHOLD_COUNT_VALUE\n",
    "df_co = df_co[filter_long_tail]"
   ]
  },
  {
   "cell_type": "code",
   "execution_count": null,
   "id": "6547d2d3-359f-46d5-b982-9dcf633e3180",
   "metadata": {},
   "outputs": [],
   "source": [
    "df_co"
   ]
  },
  {
   "cell_type": "code",
   "execution_count": null,
   "id": "522dd961-8406-451b-b2ff-e0473ff7b45f",
   "metadata": {},
   "outputs": [],
   "source": [
    "f\"The number of customers who have ordered {THRESHOLD_COUNT_VALUE} or more time is {df_co.shape[0]}\""
   ]
  },
  {
   "cell_type": "code",
   "execution_count": null,
   "id": "5119eae9-a65c-484b-ada6-cc253eab02ed",
   "metadata": {},
   "outputs": [],
   "source": [
    "import numpy as np\n",
    "from scipy.stats import zipf\n",
    "import matplotlib.pyplot as plt"
   ]
  },
  {
   "cell_type": "code",
   "execution_count": null,
   "id": "0c9ec388-2da7-4787-9b20-69934621c192",
   "metadata": {},
   "outputs": [],
   "source": [
    "y = df_co[\"rank\"].astype(float)\n",
    "x = df_co[\"order_count\"].astype(float)"
   ]
  },
  {
   "cell_type": "code",
   "execution_count": null,
   "id": "122b874d-021e-4883-8f2f-f2bca50d8f85",
   "metadata": {},
   "outputs": [],
   "source": [
    "# Estimate the parameter 'a' using maximum likelihood estimation\n",
    "def neg_log_likelihood(a, x, y):\n",
    "    return -np.sum(y * np.log(zipf.pmf(x, a)))\n",
    "\n",
    "from scipy.optimize import minimize\n",
    "initial_guess = 2.0  # Initial guess for 'a'\n",
    "result = minimize(neg_log_likelihood, initial_guess, args=(x, y), method='Nelder-Mead')\n",
    "best_a = result.x[0]"
   ]
  },
  {
   "cell_type": "code",
   "execution_count": null,
   "id": "7172f333-79b2-496f-b5d7-188105674d7f",
   "metadata": {},
   "outputs": [],
   "source": [
    "# Generate the fitted Zipf distribution\n",
    "fitted_zipf = zipf.pmf(x, best_a) * sum(y)\n",
    "\n",
    "# Plot the original data and the fitted Zipf distribution\n",
    "plt.bar(x, y, label='Observed Data', alpha=0.7)\n",
    "plt.plot(x, fitted_zipf, label=f'Fitted Zipf (a={best_a:.2f})', color='red', marker='o')\n",
    "plt.xlabel('Rank')\n",
    "plt.ylabel('Frequency')\n",
    "plt.title('Fitting Zipf Distribution')\n",
    "plt.legend()\n",
    "plt.show()\n"
   ]
  },
  {
   "cell_type": "code",
   "execution_count": null,
   "id": "4e119055-713e-40d0-b4a6-aaecb4ab87ea",
   "metadata": {},
   "outputs": [],
   "source": [
    "import numpy as np\n",
    "from scipy.stats import chisquare\n",
    "from scipy.special import zeta\n",
    "\n",
    "def zipf_expected_frequencies(n, s):\n",
    "    ranks = np.arange(1, n + 1)\n",
    "    expected_probs = (1.0 / (ranks**s)) / zeta(s)\n",
    "    return expected_probs\n",
    "\n",
    "def goodness_of_fit_zipf(x,s):\n",
    "    # Example Data (Observed Frequencies)\n",
    "    observed_freqs = x\n",
    "    \n",
    "    # Estimate the Zipf parameter 's' (e.g., using maximum likelihood estimation)\n",
    "    # This is a simplified example, you might need more sophisticated methods\n",
    "    s = best_a\n",
    "    \n",
    "    # Number of categories\n",
    "    n = len(observed_freqs)\n",
    "\n",
    "    # Calculate Expected Frequencies\n",
    "    expected_probs = zipf_expected_frequencies(n, s)\n",
    "    total_observations = sum(observed_freqs)\n",
    "    expected_freqs = expected_probs * total_observations\n",
    "\n",
    "    # Perform Chi-Square Test\n",
    "    chi2_statistic, p_value = chisquare(observed_freqs, f_exp=expected_freqs)\n",
    "    print(f\"Chi-square statistic: {chi2_statistic:.2f}\")\n",
    "    print(f\"P-value: {p_value:.3f}\")\n",
    "    return chi2_statistic, p_value\n",
    "\n"
   ]
  },
  {
   "cell_type": "code",
   "execution_count": null,
   "id": "5d323266-c3f0-4cf1-b2f0-e177534c3b4e",
   "metadata": {},
   "outputs": [],
   "source": [
    "# Interpretation\n",
    "alpha = 0.05\n",
    "c2s, pv = goodness_of_fit_zipf(x, best_a)\n",
    "\n",
    "\n",
    "if pv < alpha:\n",
    "    print(\"Reject the null hypothesis: Data does not follow Zipf distribution.\")\n",
    "else:\n",
    "    print(\"Fail to reject the null hypothesis: Data might follow Zipf distribution.\")"
   ]
  },
  {
   "cell_type": "code",
   "execution_count": null,
   "id": "8ba2f831-dee7-4d3a-949d-acb7f7ef8e46",
   "metadata": {},
   "outputs": [],
   "source": [
    "fp_pp = \"../data/olist_prepared/olist_2_year_prod_purchases.csv\"\n",
    "df_pp = pd.read_csv(fp_pp)\n",
    "THRESHOLD_COUNT_VALUE = 5\n",
    "filter_long_tail = df_pp[\"count\"] >= THRESHOLD_COUNT_VALUE\n",
    "df_pp = df_pp[filter_long_tail]"
   ]
  },
  {
   "cell_type": "code",
   "execution_count": null,
   "id": "08f4b4b9-40ad-4368-9d76-44abbe653350",
   "metadata": {},
   "outputs": [],
   "source": [
    "f\"The number of products purchased {THRESHOLD_COUNT_VALUE} or more time is {df_pp.shape[0]}\""
   ]
  },
  {
   "cell_type": "code",
   "execution_count": null,
   "id": "e542a471-dd47-4bc0-8742-ec08f5811b29",
   "metadata": {},
   "outputs": [],
   "source": [
    "y = df_pp[\"rank\"].astype(float)\n",
    "x = df_pp[\"count\"].astype(float)"
   ]
  },
  {
   "cell_type": "code",
   "execution_count": null,
   "id": "11e89a85-48ad-4531-8ae4-15259696245d",
   "metadata": {},
   "outputs": [],
   "source": [
    "initial_guess = 2.0  # Initial guess for 'a'\n",
    "result = minimize(neg_log_likelihood, initial_guess, args=(x, y), method='Nelder-Mead')\n",
    "best_a = result.x[0]"
   ]
  },
  {
   "cell_type": "code",
   "execution_count": null,
   "id": "1c564fef-7cbd-447b-a1f0-8d72ba21f765",
   "metadata": {},
   "outputs": [],
   "source": [
    "# Generate the fitted Zipf distribution\n",
    "fitted_zipf = zipf.pmf(x, best_a) * sum(y)\n",
    "\n",
    "# Plot the original data and the fitted Zipf distribution\n",
    "plt.bar(x, y, label='Observed Data', alpha=0.7)\n",
    "plt.plot(x, fitted_zipf, label=f'Fitted Zipf (a={best_a:.2f})', color='red', marker='o')\n",
    "plt.xlabel('Rank')\n",
    "plt.ylabel('Frequency')\n",
    "plt.title('Fitting Zipf Distribution')\n",
    "plt.legend()\n",
    "plt.show()\n"
   ]
  },
  {
   "cell_type": "code",
   "execution_count": null,
   "id": "562e8d4a-79e9-4b38-bd93-06db55daa588",
   "metadata": {},
   "outputs": [],
   "source": [
    "# Interpretation\n",
    "alpha = 0.05\n",
    "c2s, pv = goodness_of_fit_zipf(x, best_a)\n",
    "\n",
    "\n",
    "if pv < alpha:\n",
    "    print(\"Reject the null hypothesis: Data does not follow Zipf distribution.\")\n",
    "else:\n",
    "    print(\"Fail to reject the null hypothesis: Data might follow Zipf distribution.\")"
   ]
  },
  {
   "cell_type": "markdown",
   "id": "eb2d8ede-0f85-4366-99a1-a00024dfebbf",
   "metadata": {},
   "source": [
    "## Compute Summary Statistics Needed for Calculations"
   ]
  },
  {
   "cell_type": "code",
   "execution_count": null,
   "id": "d99e4f5b-ad96-4ce0-ab0a-eb374465f29b",
   "metadata": {},
   "outputs": [],
   "source": [
    "NUM_FREQ_CUSTOMERS = df_co.shape[0]"
   ]
  },
  {
   "cell_type": "code",
   "execution_count": null,
   "id": "374262c3-0d69-45d5-b5b8-014082efda39",
   "metadata": {},
   "outputs": [],
   "source": [
    "fp_daily_raw = \"../data/olist_prepared/olist_daily_orders_prepared.csv\"\n",
    "df_daily_raw = pd.read_csv(fp_daily_raw)"
   ]
  },
  {
   "cell_type": "code",
   "execution_count": null,
   "id": "a7b2dd79-05e2-4d53-a7c3-08d984795bac",
   "metadata": {},
   "outputs": [],
   "source": [
    "TOTAL_STORE_REVENUE_FOR_2_YEARS  = df_daily_raw[\"price\"].sum()"
   ]
  },
  {
   "cell_type": "code",
   "execution_count": null,
   "id": "e8c65331-2421-40ac-9fa6-186cdf4e886e",
   "metadata": {},
   "outputs": [],
   "source": [
    "df_daily_raw[\"order_purchase_timestamp\"] = pd.to_datetime(df_daily_raw[\"order_purchase_timestamp\"])"
   ]
  },
  {
   "cell_type": "code",
   "execution_count": null,
   "id": "a17a6f2d-081d-4cac-841a-4cf46b8ad00a",
   "metadata": {},
   "outputs": [],
   "source": [
    "PERIOD_START_DATE = df_daily_raw[\"order_purchase_timestamp\"].dt.date.min()\n",
    "PERIOD_END_DATE = df_daily_raw[\"order_purchase_timestamp\"].dt.date.max()\n",
    "PERIOD = (PERIOD_END_DATE - PERIOD_START_DATE).days"
   ]
  },
  {
   "cell_type": "code",
   "execution_count": null,
   "id": "8a122fa8-82e4-4dc9-aeef-a983ca2fc2a1",
   "metadata": {},
   "outputs": [],
   "source": [
    "NUM_CUSTOMERS_TOTAL = df_daily_raw[\"customer_id\"].unique().shape[0]\n",
    "NUM_PRODUCTS_TOTAL = df_daily_raw[\"product_id\"].unique().shape[0]"
   ]
  },
  {
   "cell_type": "code",
   "execution_count": null,
   "id": "52cb4a76-93ca-48ec-b449-e2c8eea2a559",
   "metadata": {},
   "outputs": [],
   "source": [
    "freq_cust_list = df_co[\"customer_id\"].tolist()\n",
    "df_daily_raw[\"freq_cust\"] = df_daily_raw[\"customer_id\"].isin(freq_cust_list)"
   ]
  },
  {
   "cell_type": "code",
   "execution_count": null,
   "id": "1e734569-224a-4a6a-94a5-f6bf9d4d70bc",
   "metadata": {},
   "outputs": [],
   "source": [
    "df_daily_non_freq_cust = df_daily_raw[~df_daily_raw.freq_cust]\n"
   ]
  },
  {
   "cell_type": "code",
   "execution_count": null,
   "id": "bb0185e4-fd19-415f-8eb8-6f703136690b",
   "metadata": {},
   "outputs": [],
   "source": [
    "REVENUE_FROM_NON_FREQUENT_CUSTOMERS = df_daily_non_freq_cust[\"price\"].sum()\n",
    "REVENUE_FROM_FREQUENT_CUSTOMERS = df_daily_raw[df_daily_raw.freq_cust].price.sum()\n",
    "PCT_REVENUE_FROM_FREQ_CUSTOMERS = (REVENUE_FROM_FREQUENT_CUSTOMERS/TOTAL_STORE_REVENUE_FOR_2_YEARS)*100\n",
    "PCT_REVENUE_FROM_NON_FREQ_CUSTOMERS = 100 - PCT_REVENUE_FROM_FREQ_CUSTOMERS"
   ]
  },
  {
   "cell_type": "code",
   "execution_count": null,
   "id": "6a43c12a-0fc2-4662-ac50-2b1953884cd9",
   "metadata": {},
   "outputs": [],
   "source": [
    "PCT_REVENUE_FROM_NON_FREQ_CUSTOMERS"
   ]
  },
  {
   "cell_type": "code",
   "execution_count": null,
   "id": "dbbb78df-2284-4f61-a7cf-9e38e6ef17ca",
   "metadata": {},
   "outputs": [],
   "source": [
    "NUM_PRODUCTS_TOTAL = df_daily_raw[\"product_id\"].unique().shape[0]\n",
    "NUM_FREQ_PURCHASED_PRODUCTS = df_pp[\"product_id\"].unique().shape[0]"
   ]
  },
  {
   "cell_type": "code",
   "execution_count": null,
   "id": "a096a3fa-e3cf-4994-990f-f71f837833b3",
   "metadata": {},
   "outputs": [],
   "source": [
    "freq_purch_products = df_pp[\"product_id\"].tolist()\n",
    "\n"
   ]
  },
  {
   "cell_type": "code",
   "execution_count": null,
   "id": "0bdf097e-c4e3-44a7-b86c-d7c22be80518",
   "metadata": {},
   "outputs": [],
   "source": [
    "df_daily_raw[\"freq_purch_prod\"] = df_daily_raw[\"product_id\"].isin(freq_purch_products)\n",
    "fp_daily_raw = \"../data/olist_prepared/olist_daily_orders_prepared.csv\"\n",
    "df_daily_raw.to_csv(fp_daily_raw, index=False)"
   ]
  },
  {
   "cell_type": "code",
   "execution_count": null,
   "id": "c3150fb7-bf5f-4941-8656-f7369dbec1ca",
   "metadata": {},
   "outputs": [],
   "source": [
    "REVENUE_FROM_NON_FREQUENT_PRODUCTS = df_daily_raw[~df_daily_raw[\"freq_purch_prod\"]][\"price\"].sum()\n",
    "REVENUE_FROM_FREQUENT_PRODUCTS = df_daily_raw[df_daily_raw[\"freq_purch_prod\"]][\"price\"].sum()\n",
    "PCT_REVENUE_FROM_FREQ_PURCH_PRODS = (REVENUE_FROM_FREQUENT_PRODUCTS/TOTAL_STORE_REVENUE_FOR_2_YEARS)*100\n",
    "PCT_REVENUE_FROM_NON_FREQ_PURCH_PRODS = 100 - PCT_REVENUE_FROM_FREQ_PURCH_PRODS"
   ]
  },
  {
   "cell_type": "code",
   "execution_count": null,
   "id": "2609c2c3-2161-48ec-999d-198e612eafc2",
   "metadata": {},
   "outputs": [],
   "source": [
    "PCT_REVENUE_FROM_FREQ_PURCH_PRODS"
   ]
  },
  {
   "cell_type": "code",
   "execution_count": null,
   "id": "ed690a9f-a687-4974-9b7d-24032bcc50f2",
   "metadata": {},
   "outputs": [],
   "source": [
    "dict_results = { \"Percentage of revenue from frequent customers\": PCT_REVENUE_FROM_FREQ_CUSTOMERS,\\\n",
    "\"Percentage of revenue from non-frequent customers\": PCT_REVENUE_FROM_NON_FREQ_CUSTOMERS,\\\n",
    "\"Percentage of revenue from frequently purchased products\": PCT_REVENUE_FROM_FREQ_PURCH_PRODS,\\\n",
    "\"Percentage of revenue from non-frequenly purchased products\": PCT_REVENUE_FROM_NON_FREQ_PURCH_PRODS}\n",
    "\n",
    "df_results = pd.DataFrame.from_dict(dict_results, orient=\"index\").round(3).reset_index()\n",
    "df_results.columns = [\"Performance Metric\", \"Percentage\"]"
   ]
  },
  {
   "cell_type": "code",
   "execution_count": null,
   "id": "5e86ec70-6574-4a79-8d54-95ac1216a12a",
   "metadata": {},
   "outputs": [],
   "source": [
    "df_results"
   ]
  },
  {
   "cell_type": "markdown",
   "id": "bcca9fe3-669e-48da-a7e7-34f6dea5a64e",
   "metadata": {},
   "source": [
    "## NOTE:\n",
    "Key observation is that frequently purchased products are much more of a revenue driver than frequent customers. Managing inventory to prevent stockouts of freq"
   ]
  }
 ],
 "metadata": {
  "language_info": {
   "name": "python"
  }
 },
 "nbformat": 4,
 "nbformat_minor": 5
}
