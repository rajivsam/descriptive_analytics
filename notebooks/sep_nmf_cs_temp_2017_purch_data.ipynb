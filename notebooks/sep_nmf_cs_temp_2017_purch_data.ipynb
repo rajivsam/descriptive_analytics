{
 "cells": [
  {
   "cell_type": "markdown",
   "id": "ae3551a6-ca9a-4df0-ab30-5dd451bebc51",
   "metadata": {},
   "source": [
    "## Profile of Clusters\n",
    "The purpose of this notebook is to profile the clusters in the frequently purchased inventory items. Non-Negative Matrix factorization is used for this purpose. It looks like the factorization achieved has the separable property. Matrix factorization attempts to factorize a matrix $\\mathbf{X}$ as  $\\mathbf{X} \\approx \\mathbf{W}.\\mathbf{H}$, where $\\mathbf{H}$ is a topic matrix (here a topics are defined on the inventory of frequently purchased items) and $\\mathbf{W}$ is a topic mixing matrix that defines the mixture of topics for a particular week. It looks like the $\\mathbf{H}$ matrix is seperable, that is it contains **anchor** items, these are elements of the topic that are not found in other topics. [NIMFA](https://ai.stanford.edu/~marinka/nimfa/) used to have an explicit implementation of separable NMF, but it looks like it is not maintained anymore and there is a NUMPY version error that needs to be fixed. The scikit-learn version works, looks like the separable property is achieved in the solution."
   ]
  },
  {
   "cell_type": "code",
   "execution_count": null,
   "id": "76f66d06-069c-4bd7-b195-fc65c8e57ad0",
   "metadata": {},
   "outputs": [],
   "source": [
    "import pandas as pd"
   ]
  },
  {
   "cell_type": "code",
   "execution_count": null,
   "id": "9bf63e7b-1167-48ff-ac05-22827c185b9d",
   "metadata": {},
   "outputs": [],
   "source": [
    "fp = \"../data/olist_prepared/freq_prod_weekly_sale_SP_2017.parquet\"\n",
    "df = pd.read_parquet(fp)"
   ]
  },
  {
   "cell_type": "code",
   "execution_count": null,
   "id": "661546e1-cd6a-4d04-b0f9-d921e3a9e13d",
   "metadata": {},
   "outputs": [],
   "source": [
    "X = df.values"
   ]
  },
  {
   "cell_type": "code",
   "execution_count": null,
   "id": "a06ae47c-e593-4e4d-85fe-d4deb72b8c37",
   "metadata": {},
   "outputs": [],
   "source": [
    "from sklearn.decomposition import NMF"
   ]
  },
  {
   "cell_type": "code",
   "execution_count": null,
   "id": "43eae614-6808-48c2-911d-dd4528bb913c",
   "metadata": {},
   "outputs": [],
   "source": [
    "model = NMF(n_components=2, init='random', random_state=0)"
   ]
  },
  {
   "cell_type": "code",
   "execution_count": null,
   "id": "2664881f-5db1-4ed1-b323-8ce36f76f777",
   "metadata": {},
   "outputs": [],
   "source": [
    "W = model.fit_transform(X)\n",
    "H = model.components_"
   ]
  },
  {
   "cell_type": "code",
   "execution_count": null,
   "id": "1a9824c6-322d-46d9-bdfa-21d666e23ea4",
   "metadata": {},
   "outputs": [],
   "source": [
    "import numpy as np\n",
    "X_hat = W @ H\n",
    "np.mean(np.sum((X_hat - X) ** 2, axis=1) / np.sum(X ** 2, axis=1))"
   ]
  },
  {
   "cell_type": "code",
   "execution_count": null,
   "id": "906ba140-381a-45af-bb93-bdfa53ff533a",
   "metadata": {},
   "outputs": [],
   "source": [
    "H"
   ]
  },
  {
   "cell_type": "code",
   "execution_count": null,
   "id": "b2825797-3cda-429d-9084-b99a66b6dd15",
   "metadata": {},
   "outputs": [],
   "source": [
    "prod_list = df.columns.tolist()"
   ]
  },
  {
   "cell_type": "code",
   "execution_count": null,
   "id": "4efecd83-ba4c-457c-a589-2fcaecf03794",
   "metadata": {},
   "outputs": [],
   "source": [
    "c1 = H[0] > 0\n",
    "c2 = H[1] > 0"
   ]
  },
  {
   "cell_type": "code",
   "execution_count": null,
   "id": "bd439adb-534d-461e-bb83-e3348bd27608",
   "metadata": {},
   "outputs": [],
   "source": [
    "df_prod = pd.DataFrame({\"prod_id\": prod_list})"
   ]
  },
  {
   "cell_type": "markdown",
   "id": "735cb974-31d6-499c-8a8c-525f5209795b",
   "metadata": {},
   "source": [
    "## Separablity\n",
    "This section checks for separablity of the basis matrix $\\mathbf{H}$. It looks like the basis matrix has the separable property"
   ]
  },
  {
   "cell_type": "code",
   "execution_count": null,
   "id": "159549bf-b158-413e-a35d-71797a3f8a6d",
   "metadata": {},
   "outputs": [],
   "source": [
    "set_c1 = set(df_prod[c1])\n",
    "set_c2 = set(df_prod[c2])"
   ]
  },
  {
   "cell_type": "code",
   "execution_count": null,
   "id": "2919a055-f69a-4560-a18c-918f3d794d8b",
   "metadata": {},
   "outputs": [],
   "source": [
    "fp = \"../data/olist_raw/olist_products_dataset.csv\"\n",
    "dfp = pd.read_csv(fp)"
   ]
  },
  {
   "cell_type": "code",
   "execution_count": null,
   "id": "bc0559a9-2b7e-4a18-9357-a7473d59ca44",
   "metadata": {},
   "outputs": [],
   "source": [
    "dfp"
   ]
  },
  {
   "cell_type": "code",
   "execution_count": null,
   "id": "3d4b2d36-1c57-48a2-8c88-8aeac66d5492",
   "metadata": {},
   "outputs": [],
   "source": [
    "c1 = set(df_prod[H[0] > 0][\"prod_id\"])\n",
    "c2 = set(df_prod[H[1] > 0][\"prod_id\"])"
   ]
  },
  {
   "cell_type": "code",
   "execution_count": null,
   "id": "b5da36c0-1e0d-475e-916f-e4607cb3b822",
   "metadata": {},
   "outputs": [],
   "source": [
    "df_unique_c1 = pd.DataFrame(c1.difference(c2))\n",
    "df_unique_c1.columns = [\"product_id\"]"
   ]
  },
  {
   "cell_type": "code",
   "execution_count": null,
   "id": "c919f938-0b32-42ff-89f9-9781c85ed50c",
   "metadata": {},
   "outputs": [],
   "source": [
    "df_unique_c1 = pd.merge(df_unique_c1, dfp, on=\"product_id\")\n",
    "cols_needed = [\"product_category_name\"]\n",
    "df_unique_c1 = df_unique_c1[cols_needed]"
   ]
  },
  {
   "cell_type": "code",
   "execution_count": null,
   "id": "f40820b0-2719-463a-9974-a4aa303ffa42",
   "metadata": {},
   "outputs": [],
   "source": [
    "df_unique_c2 =  pd.DataFrame(c2.difference(c1))\n",
    "df_unique_c2.columns = [\"product_id\"]\n",
    "df_unique_c2 = pd.merge(df_unique_c2, dfp, on=\"product_id\")\n",
    "cols_needed = [\"product_category_name\"]\n",
    "df_unique_c2 = df_unique_c2[cols_needed]"
   ]
  },
  {
   "cell_type": "markdown",
   "id": "ffcc0898-5ef4-40ab-9e37-d59efd4a707c",
   "metadata": {},
   "source": [
    "## Signature Items of each Topic\n",
    "The dataframes `df_unique_c1` and `df_unique_c2` contain the signature components of each topic"
   ]
  },
  {
   "cell_type": "code",
   "execution_count": null,
   "id": "51f190ca-49c8-490b-8930-c8374a88ffad",
   "metadata": {},
   "outputs": [],
   "source": [
    "df_unique_c2.head(20)"
   ]
  },
  {
   "cell_type": "code",
   "execution_count": null,
   "id": "fcecdb2a-f9d3-4e12-b693-cbf83c5f6d4b",
   "metadata": {},
   "outputs": [],
   "source": [
    "df_unique_c1.head(20)"
   ]
  },
  {
   "cell_type": "markdown",
   "id": "fd9009bd-701b-46c9-877a-561bee8d6e40",
   "metadata": {},
   "source": [
    "## Profile Clusters"
   ]
  },
  {
   "cell_type": "markdown",
   "id": "a2de0e63-bc35-4313-b755-930ac8742569",
   "metadata": {},
   "source": [
    "Recall that the $\\mathbf{W}$ matrix is of size $ 51 \\times 2$. We have data for $51$ weeks of the year and we have $2$ as the size of the latent dimension (number of components). The $\\mathbf{W}$ matrix entries correspond to the coefficients for the $\\mathbf{H}$ components. By clustering the $\\mathbf{W}$ matrix we get the entries that have similar coefficients for the $\\mathbf{H}$ matrix.\n",
    "\n",
    "A scatter plot of the $\\mathbf{W}$ matrix provides us a picture of the clustering tendencies in purchases. A scatter plot is shown below. Consistent with the separable assumption we notice clusters that are completely component 1 or component 2 and a big cluster with a mix of component 1 and component 2. We can use a clustering algorithm, say K means to label these clusters. The clusters are shown in the second scatter plot."
   ]
  },
  {
   "cell_type": "code",
   "execution_count": null,
   "id": "4ba23741-5808-4b30-9c2e-ea50fbac45a3",
   "metadata": {},
   "outputs": [],
   "source": [
    "import plotly.express as px\n",
    "\n",
    "dfW = pd.DataFrame(W)\n",
    "dfW.columns = [\"comp1\", \"comp2\"]\n",
    "fig = px.scatter(dfW, x=\"comp1\", y=\"comp2\")\n",
    "fig.show()"
   ]
  },
  {
   "cell_type": "code",
   "execution_count": null,
   "id": "44bc70dd-2698-49d4-afe2-ba1b04148e8b",
   "metadata": {},
   "outputs": [],
   "source": [
    "from sklearn.cluster import KMeans"
   ]
  },
  {
   "cell_type": "code",
   "execution_count": null,
   "id": "8710c64e-01f3-49f6-bf5c-116a085d1e47",
   "metadata": {},
   "outputs": [],
   "source": [
    "kmeans = KMeans(n_clusters=4, random_state=0, n_init=\"auto\").fit(dfW)"
   ]
  },
  {
   "cell_type": "code",
   "execution_count": null,
   "id": "7c84798a-88f4-4088-980e-045813a122f0",
   "metadata": {},
   "outputs": [],
   "source": [
    "dfW[\"cluster\"] = kmeans.labels_\n",
    "dfW[\"cluster\"] = dfW[\"cluster\"].astype(str)"
   ]
  },
  {
   "cell_type": "code",
   "execution_count": null,
   "id": "6dd135eb-b234-41a5-b43f-d24c091d9db4",
   "metadata": {},
   "outputs": [],
   "source": [
    "fig = px.scatter(dfW, x=\"comp1\", y=\"comp2\", color=\"cluster\")\n",
    "fig.show()"
   ]
  },
  {
   "cell_type": "code",
   "execution_count": null,
   "id": "466636b4-59dc-470a-9b9c-ab976caaf9ce",
   "metadata": {},
   "outputs": [],
   "source": [
    "dfW.groupby(\"cluster\").size()"
   ]
  },
  {
   "cell_type": "code",
   "execution_count": null,
   "id": "1319f84d-bab8-4039-8c4b-b6d6f5de8782",
   "metadata": {},
   "outputs": [],
   "source": []
  }
 ],
 "metadata": {
  "language_info": {
   "name": "python"
  }
 },
 "nbformat": 4,
 "nbformat_minor": 5
}
