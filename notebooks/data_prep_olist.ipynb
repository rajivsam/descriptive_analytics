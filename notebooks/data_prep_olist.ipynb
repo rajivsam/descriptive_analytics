{
 "cells": [
  {
   "cell_type": "markdown",
   "id": "403993a9-2570-4d11-b7a7-88ac8e36f751",
   "metadata": {},
   "source": [
    "## Overview\n",
    "The schema for this dataset is shown. As discussed in the steps for data preparation there is a common pattern to preparing operational business data for analysis. There is always a timestamp that captures when the data was captured. Because the objective of this analysis is to segment revenue by various factors, we will define these factors and the attributes for each factor. The factors are customers, products and geography. The sequence of processing steps in this notebook follows the description of the key steps in the concepts document."
   ]
  },
  {
   "cell_type": "markdown",
   "id": "46ff5cc2-fc06-48fb-bf90-440f83fafc29",
   "metadata": {},
   "source": [
    "## Schema for the Olist Dataset"
   ]
  },
  {
   "cell_type": "markdown",
   "id": "3e3d8ac9-4ca1-452a-a55d-f0b7dc8ea6e3",
   "metadata": {},
   "source": [
    "![](../images/olist_schema.png)"
   ]
  },
  {
   "cell_type": "code",
   "execution_count": null,
   "id": "8187da25-84c1-4e3f-98f6-0e36f80099b8",
   "metadata": {},
   "outputs": [],
   "source": [
    "import pandas as pd\n",
    "fp_orders = \"../data/olist_raw/olist_orders_dataset.csv\"\n",
    "fp_order_items = \"../data/olist_raw/olist_order_items_dataset.csv\"\n",
    "df_orders = pd.read_csv(fp_orders)\n",
    "df_order_items = pd.read_csv(fp_order_items)\n"
   ]
  },
  {
   "cell_type": "markdown",
   "id": "098ad79b-de03-47ba-89d7-44b0d2aa0858",
   "metadata": {},
   "source": [
    "## Filter and Aggregate Steps for Customer Data"
   ]
  },
  {
   "cell_type": "code",
   "execution_count": null,
   "id": "4f2fe55f-ab9d-40df-859d-14a8775d99bf",
   "metadata": {},
   "outputs": [],
   "source": [
    "cols = df_orders.columns.tolist() + df_order_items.columns.tolist()"
   ]
  },
  {
   "cell_type": "code",
   "execution_count": null,
   "id": "30242e7e-1224-433f-8ab0-c0504239c221",
   "metadata": {},
   "outputs": [],
   "source": [
    "cols"
   ]
  },
  {
   "cell_type": "code",
   "execution_count": null,
   "id": "e0c956d0-0d36-411b-865c-ce0fb7bdaa51",
   "metadata": {},
   "outputs": [],
   "source": [
    "cols_needed = [\"order_id\",  'customer_id', \"order_purchase_timestamp\", \"order_item_id\", \"product_id\", \"price\"]"
   ]
  },
  {
   "cell_type": "code",
   "execution_count": null,
   "id": "78885519-d381-4358-8529-3f3cafadf9a8",
   "metadata": {},
   "outputs": [],
   "source": [
    "df_daily_ord_raw = pd.merge(df_orders, df_order_items, on = \"order_id\")"
   ]
  },
  {
   "cell_type": "code",
   "execution_count": null,
   "id": "98ab979a-fa4a-40ae-80e5-de5014b6c2cc",
   "metadata": {},
   "outputs": [],
   "source": [
    "df_daily_ord_raw = df_daily_ord_raw[cols_needed]"
   ]
  },
  {
   "cell_type": "code",
   "execution_count": null,
   "id": "1956edf4-f5bc-466f-bff4-a41599c409f5",
   "metadata": {},
   "outputs": [],
   "source": [
    "df_daily_ord_raw[\"order_purchase_timestamp\"] = pd.to_datetime(df_daily_ord_raw[\"order_purchase_timestamp\"])"
   ]
  },
  {
   "cell_type": "code",
   "execution_count": null,
   "id": "7dc350e5-136a-45f9-bf2a-061129c85253",
   "metadata": {},
   "outputs": [],
   "source": [
    "df_daily_ord_raw"
   ]
  },
  {
   "cell_type": "code",
   "execution_count": null,
   "id": "1350f527-8d72-41d0-b5cf-c0ef8e6199e1",
   "metadata": {},
   "outputs": [],
   "source": [
    "fp_customer = \"../data/olist_raw/olist_customers_dataset.csv\"\n",
    "df_cust = pd.read_csv(fp_customer)\n",
    "cust_cols = [\"customer_id\",\"customer_zip_code_prefix\", \"customer_city\", \"customer_state\"]\n",
    "df_cust = df_cust[cust_cols]"
   ]
  },
  {
   "cell_type": "code",
   "execution_count": null,
   "id": "fb50df7c-0ed2-4c9c-a0bb-30659317bd3a",
   "metadata": {},
   "outputs": [],
   "source": [
    "df_daily_ord_raw =  pd.merge(df_daily_ord_raw, df_cust, on = \"customer_id\")"
   ]
  },
  {
   "cell_type": "code",
   "execution_count": null,
   "id": "41a2112c-1027-4dcf-9b79-331ced07731c",
   "metadata": {},
   "outputs": [],
   "source": [
    "df_daily_ord_raw = df_daily_ord_raw.sort_values(by=\"order_id\").reset_index()\n",
    "fp_daily_ord_raw = \"../data/olist_prepared/olist_daily_orders_prepared.csv\"\n",
    "df_daily_ord_raw.to_csv(fp_daily_ord_raw, index=False)"
   ]
  },
  {
   "cell_type": "code",
   "execution_count": null,
   "id": "696589c1-3af6-4614-b474-5dd0462b8d70",
   "metadata": {},
   "outputs": [],
   "source": [
    "ord_qty_vc = df_daily_ord_raw.order_id.value_counts().values"
   ]
  },
  {
   "cell_type": "code",
   "execution_count": null,
   "id": "10124f9d-0a53-45f9-946d-1d02dd3909b1",
   "metadata": {},
   "outputs": [],
   "source": [
    "ord_qty_vc"
   ]
  },
  {
   "cell_type": "code",
   "execution_count": null,
   "id": "d0b2d69c-b7dd-43b3-82d7-c0e6ea583a5c",
   "metadata": {},
   "outputs": [],
   "source": [
    "df_gb = df_daily_ord_raw.groupby([df_daily_ord_raw.order_purchase_timestamp.dt.year,\\\n",
    "                                  df_daily_ord_raw.order_purchase_timestamp.dt.day_of_year])"
   ]
  },
  {
   "cell_type": "code",
   "execution_count": null,
   "id": "c728d223-d39b-449c-a7d5-792284f3ace2",
   "metadata": {},
   "outputs": [],
   "source": [
    "df_prod_purchases = df_daily_ord_raw.product_id.value_counts().reset_index()"
   ]
  },
  {
   "cell_type": "code",
   "execution_count": null,
   "id": "650f1fad-613d-41b6-8b04-ecf5219e7a60",
   "metadata": {},
   "outputs": [],
   "source": [
    "len(df_daily_ord_raw.product_id.unique())"
   ]
  },
  {
   "cell_type": "code",
   "execution_count": null,
   "id": "7cd7d424-bed4-48d1-bf89-422a2c398922",
   "metadata": {},
   "outputs": [],
   "source": [
    "from matplotlib import pyplot as plt "
   ]
  },
  {
   "cell_type": "code",
   "execution_count": null,
   "id": "e0ce88df-99b0-4edb-8907-66ed833fc522",
   "metadata": {},
   "outputs": [],
   "source": [
    "df_prod_purchases[\"count\"].quantile(q=0.8)"
   ]
  },
  {
   "cell_type": "markdown",
   "id": "418eff51-2bde-4e62-a3b0-8328d698d0c8",
   "metadata": {},
   "source": [
    "## Filter and Aggregate Steps for Product Data"
   ]
  },
  {
   "cell_type": "code",
   "execution_count": null,
   "id": "19d4f3bc-8814-419a-a548-33bfad7108f6",
   "metadata": {},
   "outputs": [],
   "source": [
    "df_prod_purchases = df_prod_purchases.sort_values(by=\"count\", ascending=False)\n",
    "fp_prod_purch = \"../data/olist_prepared/olist_2_year_prod_purchases.csv\"\n",
    "df_prod_purchases[\"rank\"] = df_prod_purchases.index + 1\n",
    "df_prod_purchases.to_csv(fp_prod_purch, index=False)"
   ]
  },
  {
   "cell_type": "code",
   "execution_count": null,
   "id": "1f48a5d6-69fc-4c3e-a90a-b102059b5b1e",
   "metadata": {},
   "outputs": [],
   "source": [
    "df_prod_purchases.head(20)"
   ]
  },
  {
   "cell_type": "code",
   "execution_count": null,
   "id": "3bde8ffd-0671-4636-9b30-b4e5c70432ba",
   "metadata": {},
   "outputs": [],
   "source": [
    "df_prod_purchases[\"count\"].unique().shape"
   ]
  },
  {
   "cell_type": "code",
   "execution_count": null,
   "id": "ccdb48d2-cadb-48ba-844d-bc3e3064ad08",
   "metadata": {},
   "outputs": [],
   "source": [
    "df_cust_order_count = df_daily_ord_raw.groupby([\"customer_id\"])[\"order_id\"].count().reset_index()"
   ]
  },
  {
   "cell_type": "code",
   "execution_count": null,
   "id": "180fffc7-e585-49d9-a3d4-74b0a2759f0a",
   "metadata": {},
   "outputs": [],
   "source": [
    "df_cust_order_count.columns = [\"customer_id\", \"order_count\"]"
   ]
  },
  {
   "cell_type": "code",
   "execution_count": null,
   "id": "c5cf8eab-58b7-49c5-b374-2eaa0a363bbb",
   "metadata": {},
   "outputs": [],
   "source": [
    "df_cust_order_count = df_cust_order_count.sort_values(by=\"order_count\", ascending=False).reset_index()"
   ]
  }
 ],
 "metadata": {
  "language_info": {
   "name": "python"
  }
 },
 "nbformat": 4,
 "nbformat_minor": 5
}
