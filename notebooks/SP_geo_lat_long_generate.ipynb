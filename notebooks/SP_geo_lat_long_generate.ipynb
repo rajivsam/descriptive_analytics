{
 "cells": [
  {
   "cell_type": "code",
   "execution_count": null,
   "id": "3c7bf574-fb43-4df1-b71e-0643ff791e8a",
   "metadata": {},
   "outputs": [],
   "source": [
    "import pandas as pd\n"
   ]
  },
  {
   "cell_type": "code",
   "execution_count": null,
   "id": "46454c4c-bbcc-41e4-bd65-18f5c14f0b76",
   "metadata": {},
   "outputs": [],
   "source": [
    "fp = \"../data/olist_prepared/geo_SP_CS_2017.csv\"\n",
    "df = pd.read_csv(fp)\n",
    "cities_SP = df.columns.tolist()"
   ]
  },
  {
   "cell_type": "code",
   "execution_count": null,
   "id": "fc88ab08-5472-43c5-a184-38dea1c4a2c5",
   "metadata": {},
   "outputs": [],
   "source": [
    "from geopy import Nominatim, distance\n",
    "d = distance.distance\n",
    "g = Nominatim(user_agent=\"r2ds_geo_coding\")"
   ]
  },
  {
   "cell_type": "code",
   "execution_count": null,
   "id": "e3ff3771-4335-480c-9ad4-dec463317f78",
   "metadata": {},
   "outputs": [],
   "source": [
    "len(cities_SP)"
   ]
  },
  {
   "cell_type": "code",
   "execution_count": null,
   "id": "8f919071-e6ee-4ee5-b9dd-104115fd4564",
   "metadata": {},
   "outputs": [],
   "source": [
    "from functools import partial"
   ]
  },
  {
   "cell_type": "code",
   "execution_count": null,
   "id": "34d74fe7-d5ff-4cb2-84b1-f0c0aeaa4dfc",
   "metadata": {},
   "outputs": [],
   "source": [
    "lat_long_list = []\n",
    "count = 0\n",
    "for c in cities_SP:\n",
    "    geo_code = g.geocode(c)\n",
    "    city = {}\n",
    "    city[\"name\"] = c\n",
    "    city[\"latitude\"] = geo_code.latitude\n",
    "    city[\"longitude\"] = geo_code.longitude\n",
    "    lat_long_list.append(city)\n",
    "    count +=1\n",
    "    if count %5 == 0:\n",
    "        print(f\"done {count} entries\")\n",
    "    "
   ]
  },
  {
   "cell_type": "code",
   "execution_count": null,
   "id": "ff2d2806-01b8-4b13-90b7-a07587427910",
   "metadata": {},
   "outputs": [],
   "source": [
    "len(lat_long_list)"
   ]
  },
  {
   "cell_type": "code",
   "execution_count": null,
   "id": "e6f8eb95-c19a-4fd4-9d3e-c602aac1e95d",
   "metadata": {},
   "outputs": [],
   "source": [
    "df_lat_long_SP = pd.DataFrame(lat_long_list)"
   ]
  },
  {
   "cell_type": "code",
   "execution_count": null,
   "id": "a02ebdbd-486d-443f-aad7-74c88f65e88a",
   "metadata": {},
   "outputs": [],
   "source": []
  }
 ],
 "metadata": {
  "language_info": {
   "name": "python"
  }
 },
 "nbformat": 4,
 "nbformat_minor": 5
}
