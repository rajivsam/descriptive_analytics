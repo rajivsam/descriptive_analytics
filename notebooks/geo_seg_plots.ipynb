{
 "cells": [
  {
   "cell_type": "code",
   "execution_count": null,
   "id": "7195c426-0186-4ce4-86dc-074bdcfb68f0",
   "metadata": {},
   "outputs": [],
   "source": [
    "import pandas as pd\n",
    "import plotly.express as px"
   ]
  },
  {
   "cell_type": "code",
   "execution_count": null,
   "id": "6bfeb1fd-66ee-4daa-a89b-b6acb1a6ae95",
   "metadata": {},
   "outputs": [],
   "source": [
    "fp = \"../data/olist_prepared/olist_geo_seg_data_prepared.csv\"\n",
    "df = pd.read_csv(fp)"
   ]
  },
  {
   "cell_type": "code",
   "execution_count": null,
   "id": "0b06efc2-5797-45c7-ad06-53d682b03f91",
   "metadata": {},
   "outputs": [],
   "source": [
    "df_ord = df.sort_values(by=\"order_pct\", ascending=False)"
   ]
  },
  {
   "cell_type": "code",
   "execution_count": null,
   "id": "77b78e31-bd35-4a3a-a9d7-2e132c933319",
   "metadata": {},
   "outputs": [],
   "source": [
    "df_ord_t10 = df_ord.head(10)"
   ]
  },
  {
   "cell_type": "code",
   "execution_count": null,
   "id": "baef3366-acf5-4c40-b591-ada3428b2704",
   "metadata": {},
   "outputs": [],
   "source": [
    "cols_needed = [\"customer_state\", \"order_pct\"]\n",
    "df_ord_t10 = df_ord_t10[cols_needed].reset_index(drop=True)"
   ]
  },
  {
   "cell_type": "code",
   "execution_count": null,
   "id": "f0d7e7b1-ef2f-4322-bc99-5c836e8f0038",
   "metadata": {},
   "outputs": [],
   "source": [
    "df_ord_t10.loc[10, \"order_pct\"] = 100 - df_ord_t10[\"order_pct\"].sum()\n",
    "df_ord_t10.loc[10, \"customer_state\"] = \"others\""
   ]
  },
  {
   "cell_type": "code",
   "execution_count": null,
   "id": "399157e5-0be0-44c7-b26f-5920bf51d143",
   "metadata": {},
   "outputs": [],
   "source": [
    "df_ord_t10"
   ]
  },
  {
   "cell_type": "code",
   "execution_count": null,
   "id": "3cb37799-b51b-41c8-8a3f-ade081ca2c71",
   "metadata": {},
   "outputs": [],
   "source": [
    "fig = px.pie(df_ord_t10, values='order_pct', names='customer_state', title='Percentage of Orders by State')\n",
    "fig.show()"
   ]
  },
  {
   "cell_type": "code",
   "execution_count": null,
   "id": "d9295f9c-b3d0-4963-8afd-3f8da5f0eee5",
   "metadata": {},
   "outputs": [],
   "source": [
    "df_cust_t10 = df.sort_values(by=\"cust_pct\", ascending=False).reset_index(drop=True).head(10)"
   ]
  },
  {
   "cell_type": "code",
   "execution_count": null,
   "id": "c56236d0-4beb-428b-9f31-d150e7a835de",
   "metadata": {},
   "outputs": [],
   "source": [
    "cols_needed = [\"customer_state\", \"cust_pct\"]\n",
    "df_cust_t10 = df_cust_t10[cols_needed]"
   ]
  },
  {
   "cell_type": "code",
   "execution_count": null,
   "id": "280a89f9-6b93-4ba8-b36b-39509fe9a5b8",
   "metadata": {},
   "outputs": [],
   "source": [
    "df_cust_t10.loc[10, \"customer_state\"] = \"others\"\n",
    "df_cust_t10.loc[10, \"cust_pct\"] = 100 - df_cust_t10[\"cust_pct\"].sum()"
   ]
  },
  {
   "cell_type": "code",
   "execution_count": null,
   "id": "3b63593b-caa5-4088-875d-7e5ecd9cacf8",
   "metadata": {},
   "outputs": [],
   "source": [
    "df_cust_t10"
   ]
  },
  {
   "cell_type": "code",
   "execution_count": null,
   "id": "150a2536-e86f-48aa-994a-9dd2e4d4a175",
   "metadata": {},
   "outputs": [],
   "source": [
    "fig = px.pie(df_ord_t10, values='ord_pct', names='customer_state', title='Percentage of Orders by State')\n",
    "fig.show()"
   ]
  }
 ],
 "metadata": {
  "language_info": {
   "name": "python"
  }
 },
 "nbformat": 4,
 "nbformat_minor": 5
}
