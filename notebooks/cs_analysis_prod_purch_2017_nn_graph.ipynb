{
 "cells": [
  {
   "cell_type": "code",
   "execution_count": null,
   "id": "e2eefb77-67e0-4d3f-b065-0c7f56f63cd4",
   "metadata": {},
   "outputs": [],
   "source": [
    "import pandas as pd\n",
    "fp = \"../data/olist_prepared/SP_CS_2017_NN_graph.csv\"\n",
    "df = pd.read_csv(fp)\n",
    "week_cols = df.columns.tolist()"
   ]
  },
  {
   "cell_type": "markdown",
   "id": "c69da623-b93d-49ed-a680-d18510839ea2",
   "metadata": {},
   "source": [
    "Context:\n",
    "This dataset has weekly purchases of frequently purchased inventory items. Each row of the dataset is revenue from the sale of a particular inventory item in SP. So each column represents the weekly sale amount. Now, if two weeks sell the same items, then these weeks would have high cosine similarity. Note that this does not mean that the weeks have to have the same revenue for these items. This simply means that weeks with high cosine similarity are weeks that had a sale of similar inventory items. This is useful for many reasons:\n",
    "1. Demand planners know when a group inventory items are in demand.\n",
    "2. Price setters can set prices appropriately at that time.\n",
    "\n",
    "Weeks with high cosine similarity are events that signal an affinity for groups of inventory items (columns) for a particular group of weeks (rows). The presence of weeks with high cosine similarity indicates that we have such affinities in our dataset. We will exploit this point later."
   ]
  },
  {
   "cell_type": "code",
   "execution_count": null,
   "id": "f2357b22-c6fa-4173-8f0c-99fa04113673",
   "metadata": {},
   "outputs": [],
   "source": [
    "hc_weeks = {}\n",
    "for i in df.index:\n",
    "    for j in df.index:\n",
    "        if df.iloc[i,j] > 0.4:\n",
    "            ij_key = \"week-\" + str(week_cols[i]) + \",\" + str(week_cols[j])\n",
    "            ji_key = \"week-\" + str(week_cols[j]) + \",\" + str(week_cols[i])\n",
    "            if ji_key in hc_weeks or (i == j):\n",
    "                continue\n",
    "            else:\n",
    "                hc_weeks[ij_key] =  df.iloc[i,j]\n",
    "        "
   ]
  },
  {
   "cell_type": "code",
   "execution_count": null,
   "id": "397e0221-f617-47d1-921a-3deaa71f307a",
   "metadata": {},
   "outputs": [],
   "source": [
    "df_corr_purch_weeks = pd.DataFrame.from_dict(hc_weeks, orient=\"index\")"
   ]
  },
  {
   "cell_type": "code",
   "execution_count": null,
   "id": "646ef226-a5ee-49e1-8a42-3b88fdf6542a",
   "metadata": {},
   "outputs": [],
   "source": [
    "import plotly.express as px\n",
    "\n",
    "fig = px.imshow(df, width=600, height=600)\n",
    "fig.show()"
   ]
  },
  {
   "cell_type": "markdown",
   "id": "33abf645-4438-4d29-9d24-b07927b9e04c",
   "metadata": {},
   "source": [
    "A review of the heatmap shows many square regions of correlation 0.4 as you move your eyes across the diagonal of the heat map. These are weeks that have high cosine similarity. I see 3 clusters for sure, can make a case for a 4 th cluster"
   ]
  },
  {
   "cell_type": "code",
   "execution_count": null,
   "id": "357be50c-5f63-44e4-833a-ec496ccc9826",
   "metadata": {},
   "outputs": [],
   "source": [
    "from sklearn.cluster import SpectralClustering\n",
    "clustering = SpectralClustering(n_clusters=4, affinity=\"precomputed\",\n",
    "        assign_labels='cluster_qr',\n",
    "        random_state=0).fit(df)"
   ]
  },
  {
   "cell_type": "code",
   "execution_count": null,
   "id": "6c5c173a-c4cb-4789-ba9b-8b3d8148d6be",
   "metadata": {},
   "outputs": [],
   "source": [
    "cluster_info = {\"woy\": week_cols, \"cluster\": clustering.labels_}"
   ]
  },
  {
   "cell_type": "code",
   "execution_count": null,
   "id": "11a0af7c-3615-4ff9-be84-8a288bfb934b",
   "metadata": {},
   "outputs": [],
   "source": [
    "df_cluster_info = pd.DataFrame.from_dict(cluster_info, orient=\"columns\")\n",
    "df_cluster_info[\"cluster\"] = df_cluster_info[\"cluster\"].astype(\"str\")\n",
    "df_cluster_info[\"woy\"] = df_cluster_info[\"woy\"].astype(int)"
   ]
  },
  {
   "cell_type": "code",
   "execution_count": null,
   "id": "ebe0b162-d1d1-4f52-aae7-078e94170277",
   "metadata": {},
   "outputs": [],
   "source": [
    "fp = \"../data/olist_prepared/SP_weekly_revenue.csv\"\n",
    "df_weekly_rev = pd.read_csv(fp)"
   ]
  },
  {
   "cell_type": "code",
   "execution_count": null,
   "id": "5651136f-eb03-40c0-8bb8-4a1ce4f56993",
   "metadata": {},
   "outputs": [],
   "source": [
    "filter_2017 = df_weekly_rev[\"year\"] == 2017\n",
    "df_weekly_rev_2017 = df_weekly_rev[filter_2017]\n",
    "df_weekly_rev_2017.loc[:, \"woy\"] = df_weekly_rev_2017[\"woy\"].astype(int)"
   ]
  },
  {
   "cell_type": "code",
   "execution_count": null,
   "id": "268bb206-bead-41a9-97b6-bc38d4c479fe",
   "metadata": {},
   "outputs": [],
   "source": [
    "df_result = pd.merge(df_cluster_info, df_weekly_rev_2017, on=\"woy\")"
   ]
  },
  {
   "cell_type": "code",
   "execution_count": null,
   "id": "3ad3bebe-1a08-4ad6-ae67-756014f51e5e",
   "metadata": {},
   "outputs": [],
   "source": [
    "fig = px.violin(df_result, y=\"weekly_revenue\", x=\"cluster\", box=True, points=\"all\")\n",
    "fig.show()"
   ]
  },
  {
   "cell_type": "code",
   "execution_count": null,
   "id": "dd81e369-3e46-4cca-bf20-0fecab78e81e",
   "metadata": {},
   "outputs": [],
   "source": [
    "fig = px.scatter(df_result, x='woy', y='weekly_revenue', text='cluster', color='cluster')\n",
    "\n",
    "# Update layout to show labels\n",
    "fig.update_traces(textposition='top center')\n",
    "\n",
    "fig.show()"
   ]
  },
  {
   "cell_type": "code",
   "execution_count": null,
   "id": "bb2ce303-5413-4624-955f-6a2160638f49",
   "metadata": {},
   "outputs": [],
   "source": []
  },
  {
   "cell_type": "code",
   "execution_count": null,
   "id": "53689d94-7759-4fd1-8914-7566ec4af1a8",
   "metadata": {},
   "outputs": [],
   "source": []
  },
  {
   "cell_type": "code",
   "execution_count": null,
   "id": "6c480963-90eb-4944-aa74-d42ab4e9e5b1",
   "metadata": {},
   "outputs": [],
   "source": []
  }
 ],
 "metadata": {
  "language_info": {
   "name": "python"
  }
 },
 "nbformat": 4,
 "nbformat_minor": 5
}
