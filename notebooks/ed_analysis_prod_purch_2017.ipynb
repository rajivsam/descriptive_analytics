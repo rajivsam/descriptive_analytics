{
 "cells": [
  {
   "cell_type": "code",
   "execution_count": null,
   "id": "e2eefb77-67e0-4d3f-b065-0c7f56f63cd4",
   "metadata": {},
   "outputs": [],
   "source": [
    "import pandas as pd\n",
    "fp = \"../data/olist_prepared/SP_ED_2017.csv\"\n",
    "df = pd.read_csv(fp)"
   ]
  },
  {
   "cell_type": "code",
   "execution_count": null,
   "id": "3f5fa766-7e5b-4fdb-ae0c-e45ff80d7a73",
   "metadata": {},
   "outputs": [],
   "source": [
    "df.shape"
   ]
  },
  {
   "cell_type": "code",
   "execution_count": null,
   "id": "786b8c26-be34-4e89-bb3c-e87cbbbaeb58",
   "metadata": {},
   "outputs": [],
   "source": [
    "import numpy as np\n",
    "delta = 0.5\n",
    "df_trans = np.exp(- df ** 2 / (2. * delta ** 2))\n",
    "\n",
    "def euc_sim(x):\n",
    "  \"\"\"\n",
    "  This is a function that will be applied to each element.\n",
    "  \"\"\"\n",
    "  return 1/(1+x)\n",
    "\n",
    "df_trans = df_trans.map(euc_sim)\n",
    "fp_trans = \"../data/olist_prepared/SP_ES_2017.csv\"\n",
    "df_trans.to_csv(fp_trans, index=False)"
   ]
  },
  {
   "cell_type": "code",
   "execution_count": null,
   "id": "adf37c71-ae28-42d9-b899-a8d937211349",
   "metadata": {},
   "outputs": [],
   "source": [
    "df_trans.values.max()"
   ]
  },
  {
   "cell_type": "code",
   "execution_count": null,
   "id": "ae16a2e4-df4a-4b73-8fb8-b80ba6a95311",
   "metadata": {},
   "outputs": [],
   "source": [
    "fpp = \"../data/olist_prepared/freq_prod_weekly_sale_SP_2017.parquet\"\n",
    "dfpp = pd.read_parquet(fpp)"
   ]
  },
  {
   "cell_type": "code",
   "execution_count": null,
   "id": "354b10d1-14f1-4bd9-8fa1-9173efc96678",
   "metadata": {},
   "outputs": [],
   "source": [
    "from sklearn.metrics.pairwise import euclidean_distances\n",
    "succ_vals = []\n",
    "for i in range(dfpp.shape[0]):\n",
    "    if i == 0:\n",
    "        continue\n",
    "    else:\n",
    "        v1 = dfpp.iloc[(i-1),:].values.reshape(1,-1)\n",
    "        v2 = dfpp.iloc[i,:].values.reshape(1,-1)\n",
    "        es = 1/(euclidean_distances(v1, v2).flat[0] + 1)\n",
    "        succ_vals.append(es)\n",
    "        "
   ]
  },
  {
   "cell_type": "code",
   "execution_count": null,
   "id": "f5acaf56-2142-4fcb-8905-d4d0c7544082",
   "metadata": {},
   "outputs": [],
   "source": [
    "df_succ = pd.DataFrame({\"succ_es\": succ_vals})\n",
    "df_succ[\"pair\"] = df_succ.index + 1"
   ]
  },
  {
   "cell_type": "code",
   "execution_count": null,
   "id": "7eb168d9-d542-4ffc-a6b7-0c3378dfca38",
   "metadata": {},
   "outputs": [],
   "source": [
    "df_succ[\"succ_es\"].plot.kde()"
   ]
  },
  {
   "cell_type": "code",
   "execution_count": null,
   "id": "dddb43a5-a67c-47cb-977f-f991b1aba46f",
   "metadata": {},
   "outputs": [],
   "source": [
    "import plotly.express as px\n",
    "# Create the scatter plot\n",
    "fig = px.scatter(df_succ, x='pair', y='succ_es')\n",
    "\n",
    "# Update layout for better readability\n",
    "fig.update_traces(textposition='top center')\n",
    "\n",
    "# Show the plot\n",
    "fig.show()"
   ]
  },
  {
   "cell_type": "markdown",
   "id": "fce6b1e2-4c85-43dc-9282-c815e1284a91",
   "metadata": {},
   "source": [
    "The distance metric analyzed here is the euclidean distance metric. The distance between two weeks is small when the vector representation of each of the weeks are close to each other, that is the distance between them is small or the lengths are similar. The cosine similarity emphasizes similarity of direction in contrast - as long as two vectors have the same components, their similarity will be high. In contrast, euclidean similarity which is 1 - euclidean distance will be high when the euclidean distance between the points is small."
   ]
  },
  {
   "cell_type": "code",
   "execution_count": null,
   "id": "aa53d0cc-8faa-4b0a-846c-a1df4ddeb30d",
   "metadata": {},
   "outputs": [],
   "source": [
    "week_cols = df_trans.columns.tolist()"
   ]
  },
  {
   "cell_type": "code",
   "execution_count": null,
   "id": "e94c625c-0568-44fa-8098-c112a10d6da6",
   "metadata": {},
   "outputs": [],
   "source": [
    "df.shape"
   ]
  },
  {
   "cell_type": "code",
   "execution_count": null,
   "id": "30fcb268-39d8-481e-b613-a58b15f3771f",
   "metadata": {},
   "outputs": [],
   "source": [
    "df_unrolled = pd.DataFrame(df_trans.values.reshape(-1,1), columns = [\"est\"])"
   ]
  },
  {
   "cell_type": "code",
   "execution_count": null,
   "id": "291e7441-c557-4fe3-8779-c2e247d4e78a",
   "metadata": {},
   "outputs": [],
   "source": [
    "df_unrolled"
   ]
  },
  {
   "cell_type": "code",
   "execution_count": null,
   "id": "4ab48eaa-efe1-4cc2-a513-f75bdfaaa254",
   "metadata": {},
   "outputs": [],
   "source": [
    "from matplotlib import pyplot as plt\n",
    "df_unrolled[\"est\"].plot.hist()\n",
    "plt.grid(True)"
   ]
  },
  {
   "cell_type": "code",
   "execution_count": null,
   "id": "8bbfc24c-4a62-4df3-be30-31a9ef37e807",
   "metadata": {},
   "outputs": [],
   "source": [
    "from sklearn.cluster import SpectralClustering"
   ]
  },
  {
   "cell_type": "code",
   "execution_count": null,
   "id": "02857250-c20c-4d7a-b8b1-0a73abe3e11f",
   "metadata": {},
   "outputs": [],
   "source": [
    "clustering = SpectralClustering(n_clusters=2, affinity=\"precomputed\",\n",
    "        assign_labels='cluster_qr',\n",
    "        random_state=0).fit(df)"
   ]
  },
  {
   "cell_type": "code",
   "execution_count": null,
   "id": "a7acf37a-dbe9-4fdb-89be-fd4d1f3c56d5",
   "metadata": {},
   "outputs": [],
   "source": [
    "cluster_info = {\"woy\": week_cols, \"cluster\": clustering.labels_}"
   ]
  },
  {
   "cell_type": "code",
   "execution_count": null,
   "id": "7d75d7ab-b48f-4888-8456-2af0eb606db7",
   "metadata": {},
   "outputs": [],
   "source": [
    "df_cluster_info = pd.DataFrame.from_dict(cluster_info, orient=\"columns\")\n",
    "df_cluster_info[\"cluster\"] = df_cluster_info[\"cluster\"].astype(str)\n",
    "df_cluster_info[\"woy\"] = df_cluster_info[\"woy\"].astype(int)\n",
    "fp = \"../data/olist_prepared/SP_2017_es_cluster_info.csv\"\n",
    "df_cluster_info.to_csv(fp, index=False)"
   ]
  },
  {
   "cell_type": "code",
   "execution_count": null,
   "id": "97f38f8a-f2bc-4e72-bf90-e27867a46079",
   "metadata": {},
   "outputs": [],
   "source": [
    "fp = \"../data/olist_prepared/SP_weekly_revenue.csv\"\n",
    "df_weekly_rev = pd.read_csv(fp)"
   ]
  },
  {
   "cell_type": "code",
   "execution_count": null,
   "id": "80a68371-7a43-43b6-92dc-03e7523646e8",
   "metadata": {},
   "outputs": [],
   "source": [
    "filter_2017 = df_weekly_rev[\"year\"] == 2017\n",
    "df_weekly_rev_2017 = df_weekly_rev[filter_2017]\n",
    "df_weekly_rev_2017.loc[:, \"woy\"] = df_weekly_rev_2017[\"woy\"].astype(int)"
   ]
  },
  {
   "cell_type": "code",
   "execution_count": null,
   "id": "b204eba3-89d0-448f-9e4d-1c0c8d402686",
   "metadata": {},
   "outputs": [],
   "source": [
    "df_result = pd.merge(df_cluster_info, df_weekly_rev_2017, on=\"woy\")"
   ]
  },
  {
   "cell_type": "code",
   "execution_count": null,
   "id": "2ad88c41-8dea-42f6-ba4e-6a796edc3cc5",
   "metadata": {},
   "outputs": [],
   "source": [
    "fig = px.violin(df_result, y=\"weekly_revenue\", x=\"cluster\", box=True, points=\"all\")\n",
    "fig.show()"
   ]
  },
  {
   "cell_type": "code",
   "execution_count": null,
   "id": "f52d2d13-6ebf-42a4-a06c-46c3b68d6905",
   "metadata": {},
   "outputs": [],
   "source": [
    "fig = px.scatter(df_result, x='woy', y='weekly_revenue', text='cluster', color='cluster')\n",
    "\n",
    "# Update layout to show labels\n",
    "fig.update_traces(textposition='top center')\n",
    "\n",
    "fig.show()"
   ]
  },
  {
   "cell_type": "code",
   "execution_count": null,
   "id": "30af6ea0-27f6-4366-9c5c-a388942d87f6",
   "metadata": {},
   "outputs": [],
   "source": []
  },
  {
   "cell_type": "code",
   "execution_count": null,
   "id": "6e0ee0a8-3406-4b00-84b1-28bfdbcc9d4d",
   "metadata": {},
   "outputs": [],
   "source": []
  }
 ],
 "metadata": {
  "language_info": {
   "name": "python"
  }
 },
 "nbformat": 4,
 "nbformat_minor": 5
}
