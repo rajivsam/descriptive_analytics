{
 "cells": [
  {
   "cell_type": "code",
   "execution_count": null,
   "id": "cc2c5748-7eb8-460b-8543-6b5c79f54c47",
   "metadata": {},
   "outputs": [],
   "source": [
    "import pandas as pd\n",
    "import plotly.express as px"
   ]
  },
  {
   "cell_type": "markdown",
   "id": "22c231c1-2992-4dcb-9b32-2c4b97b5efa6",
   "metadata": {},
   "source": [
    "## Computations for each period\n",
    "1. Compute the average revenue per order for each year\n",
    "2. Compute the average revenue per week for each year\n",
    "3. Compute the number of weeks for which we have data each year - missingness\n",
    "## Visualizations for each period\n",
    "1. Weekly store revenue and the number of orders that week\n",
    "2. Histogram of weekly store revenue for each year - changes in patterns will show up as multiple histogram modes\n",
    "   "
   ]
  },
  {
   "cell_type": "code",
   "execution_count": null,
   "id": "919d7592-5579-4df6-af7a-c988a05fa02b",
   "metadata": {},
   "outputs": [],
   "source": [
    "fp_weekly_revenue = \"../data/olist_prepared/olist_weekly_revenue_performance.csv\"\n",
    "df = pd.read_csv(fp_weekly_revenue)\n",
    "select_2016 = df[\"year\"] == 2016\n",
    "df_2016 = df[select_2016]\n",
    "select_2017 = df[\"year\"] == 2017\n",
    "df_2017 = df[select_2017]\n",
    "select_2018 = df[\"year\"] == 2018\n",
    "df_2018 = df[select_2018]"
   ]
  },
  {
   "cell_type": "code",
   "execution_count": null,
   "id": "cf33e4a8-98bb-4f0d-8ade-91b3e5ebc556",
   "metadata": {},
   "outputs": [],
   "source": [
    "df"
   ]
  },
  {
   "cell_type": "code",
   "execution_count": null,
   "id": "fe263cfa-bb67-4c82-a92b-d593a461ea28",
   "metadata": {},
   "outputs": [],
   "source": [
    "fig = px.line(df_2018, x=\"woy\", y=\"weekly_revenue\", text=\"num_orders\")\n",
    "fig.update_traces(textposition=\"bottom right\")\n",
    "fig.show()"
   ]
  },
  {
   "cell_type": "code",
   "execution_count": null,
   "id": "87dc2821-c6ca-41b3-965a-216e3ff2f10c",
   "metadata": {},
   "outputs": [],
   "source": [
    "fig = px.line(df_2017, x=\"woy\", y=\"weekly_revenue\", text=\"num_orders\")\n",
    "fig.update_traces(textposition=\"bottom right\")\n",
    "fig.show()"
   ]
  },
  {
   "cell_type": "code",
   "execution_count": null,
   "id": "47536bbd-3988-42c7-85a6-6d5ebab48fe3",
   "metadata": {},
   "outputs": [],
   "source": [
    "fig = px.line(df_2016, x=\"woy\", y=\"weekly_revenue\", text=\"num_orders\")\n",
    "fig.update_traces(textposition=\"bottom right\")\n",
    "fig.show()"
   ]
  },
  {
   "cell_type": "code",
   "execution_count": null,
   "id": "8f1044ff-6b6d-4bc0-b52c-534054c086b8",
   "metadata": {},
   "outputs": [],
   "source": [
    "AVG_REVENUE_PER_ORDER_2016 = df_2016[\"weekly_revenue\"].sum()/df_2016[\"num_orders\"].sum()\n",
    "AVG_REVENUE_PER_ORDER_2017 = df_2017[\"weekly_revenue\"].sum()/df_2017[\"num_orders\"].sum()\n",
    "AVG_REVENUE_PER_ORDER_2018 = df_2018[\"weekly_revenue\"].sum()/df_2018[\"num_orders\"].sum()"
   ]
  },
  {
   "cell_type": "code",
   "execution_count": null,
   "id": "8e736e06-a315-40b3-a40b-9d5f649f1301",
   "metadata": {},
   "outputs": [],
   "source": [
    "AVG_REVENUE_PER_ORDER_2016"
   ]
  },
  {
   "cell_type": "code",
   "execution_count": null,
   "id": "32833f4d-d8f6-48bc-a4e8-d1f2172c2abd",
   "metadata": {},
   "outputs": [],
   "source": [
    "AVG_REVENUE_PER_ORDER_2017"
   ]
  },
  {
   "cell_type": "code",
   "execution_count": null,
   "id": "f683ddcb-60b0-41df-bc8f-d4ce05c92368",
   "metadata": {},
   "outputs": [],
   "source": [
    "AVG_REVENUE_PER_ORDER_2018"
   ]
  },
  {
   "cell_type": "code",
   "execution_count": null,
   "id": "86016292-a504-4859-9ee0-68dd91841023",
   "metadata": {},
   "outputs": [],
   "source": [
    "df_2016.shape"
   ]
  },
  {
   "cell_type": "code",
   "execution_count": null,
   "id": "7b7f6e65-ff74-49fc-ab4e-3ac6ad1dd127",
   "metadata": {},
   "outputs": [],
   "source": [
    "df_2017.shape"
   ]
  },
  {
   "cell_type": "code",
   "execution_count": null,
   "id": "6eabd1e4-15d8-483e-b1ab-ca0d8f1b0f32",
   "metadata": {},
   "outputs": [],
   "source": [
    "df_2018.shape"
   ]
  },
  {
   "cell_type": "code",
   "execution_count": null,
   "id": "7e3c9ed9-de5d-46d0-a631-9e285fb7fc2b",
   "metadata": {},
   "outputs": [],
   "source": [
    "from matplotlib import pyplot as plt\n",
    "df_2017[\"weekly_revenue\"].plot.kde()\n",
    "plt.grid(True)"
   ]
  },
  {
   "cell_type": "code",
   "execution_count": null,
   "id": "802b3599-7751-43ae-9368-259f15a1f3d7",
   "metadata": {},
   "outputs": [],
   "source": [
    "df_2018[\"weekly_revenue\"].plot.kde()\n",
    "plt.grid(True)"
   ]
  },
  {
   "cell_type": "code",
   "execution_count": null,
   "id": "547fed87-3fae-417c-b261-2feaff7278bb",
   "metadata": {},
   "outputs": [],
   "source": []
  }
 ],
 "metadata": {
  "language_info": {
   "name": "python"
  }
 },
 "nbformat": 4,
 "nbformat_minor": 5
}
