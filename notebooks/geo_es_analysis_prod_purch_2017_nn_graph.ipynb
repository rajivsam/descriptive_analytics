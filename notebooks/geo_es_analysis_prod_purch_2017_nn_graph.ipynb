{
 "cells": [
  {
   "cell_type": "code",
   "execution_count": null,
   "id": "e2eefb77-67e0-4d3f-b065-0c7f56f63cd4",
   "metadata": {},
   "outputs": [],
   "source": [
    "import pandas as pd\n",
    "fp = \"../data/olist_prepared/geo_SP_ED_2017.csv\"\n",
    "df = pd.read_csv(fp)\n",
    "geo_cols = df.columns.tolist()"
   ]
  },
  {
   "cell_type": "code",
   "execution_count": null,
   "id": "4123b3b2-3009-43d9-b8ab-4cd3419266e5",
   "metadata": {},
   "outputs": [],
   "source": [
    "df.values.mean()"
   ]
  },
  {
   "cell_type": "code",
   "execution_count": null,
   "id": "e547e791-e57b-4982-8517-c2d63c169023",
   "metadata": {},
   "outputs": [],
   "source": [
    "THRESHOLD=0.4\n",
    "row_city = []\n",
    "col_city = []\n",
    "vals = []\n",
    "for row in df.index:\n",
    "    for col in df.index:\n",
    "        if row == col:\n",
    "            continue\n",
    "        if df.iloc[row,col] > THRESHOLD:\n",
    "            row_name = geo_cols[row]\n",
    "            col_name = geo_cols[col]\n",
    "            row_city.append(row_name)\n",
    "            col_city.append(col_name)\n",
    "            vals.append(df.iloc[row,col])\n",
    "\n",
    "            "
   ]
  },
  {
   "cell_type": "code",
   "execution_count": null,
   "id": "c2d852a3-7b5e-49d0-ab4f-8f78b04e2288",
   "metadata": {},
   "outputs": [],
   "source": [
    "corr_dict = {\"city_1\": row_city, \"city_2\": col_city, \"corr\": vals}"
   ]
  },
  {
   "cell_type": "code",
   "execution_count": null,
   "id": "1fedc282-dedd-4a97-b1fb-aecefe911a5f",
   "metadata": {},
   "outputs": [],
   "source": [
    "df_corr = pd.DataFrame.from_dict(corr_dict, orient=\"columns\")"
   ]
  },
  {
   "cell_type": "code",
   "execution_count": null,
   "id": "d2754672-0097-4edf-a232-83280ce97b21",
   "metadata": {},
   "outputs": [],
   "source": [
    "nodes = set(df_corr[\"city_1\"]).union(set(df_corr[\"city_2\"]))"
   ]
  },
  {
   "cell_type": "code",
   "execution_count": null,
   "id": "80dc27fc-19f7-4ebe-9e1e-7f3a489b02fd",
   "metadata": {},
   "outputs": [],
   "source": [
    "import networkx as nx\n",
    "G = nx.Graph()"
   ]
  },
  {
   "cell_type": "code",
   "execution_count": null,
   "id": "2427bb17-566d-4cf6-9003-a4858555948f",
   "metadata": {},
   "outputs": [],
   "source": [
    "for n in nodes:\n",
    "    G.add_node(n)"
   ]
  },
  {
   "cell_type": "code",
   "execution_count": null,
   "id": "f8e597b7-1bba-404b-b064-48efed160de9",
   "metadata": {},
   "outputs": [],
   "source": [
    "\n",
    "edge_list = tuple(zip(df_corr[\"city_1\"], df_corr[\"city_2\"]))"
   ]
  },
  {
   "cell_type": "code",
   "execution_count": null,
   "id": "0f001280-3602-431f-a5d4-1b4a7342493e",
   "metadata": {},
   "outputs": [],
   "source": [
    "G.add_edges_from(edge_list)"
   ]
  },
  {
   "cell_type": "code",
   "execution_count": null,
   "id": "21fb7fee-6444-4411-9526-384997e1f1f6",
   "metadata": {},
   "outputs": [],
   "source": [
    "conn_comp_size_list = [len(c) for c in sorted(nx.connected_components(G), key=len, reverse=True)]"
   ]
  },
  {
   "cell_type": "code",
   "execution_count": null,
   "id": "425c260e-c124-4ed4-9912-f6119dd4bae3",
   "metadata": {},
   "outputs": [],
   "source": [
    "nx.number_connected_components(G)"
   ]
  },
  {
   "cell_type": "code",
   "execution_count": null,
   "id": "10bf37c3-5c94-43ed-b5cb-d8f7c727144d",
   "metadata": {},
   "outputs": [],
   "source": [
    "df_graph_size = pd.DataFrame({\"graph_size\": conn_comp_size_list})\n",
    "df_graph_size[\"graph_size\"].plot.hist()\n"
   ]
  },
  {
   "cell_type": "code",
   "execution_count": null,
   "id": "1c0a1e33-0f8c-41ab-acd2-b1136f836014",
   "metadata": {},
   "outputs": [],
   "source": [
    "df_graph_size[\"graph_size\"].describe()"
   ]
  },
  {
   "cell_type": "code",
   "execution_count": null,
   "id": "0d787999-468f-41c3-9064-723760310d69",
   "metadata": {},
   "outputs": [],
   "source": [
    "S = [G.subgraph(c).copy() for c in nx.connected_components(G)]"
   ]
  },
  {
   "cell_type": "code",
   "execution_count": null,
   "id": "a358fd42-9c1f-44b6-ba3e-b9493db2f67d",
   "metadata": {},
   "outputs": [],
   "source": [
    "size_indexed = {}\n",
    "for c in nx.connected_components(G):\n",
    "    size = G.subgraph(c).size()\n",
    "    if size not in size_indexed:\n",
    "        size_indexed[size] = []\n",
    "    size_indexed[size].append(G.subgraph(c).copy())"
   ]
  },
  {
   "cell_type": "code",
   "execution_count": null,
   "id": "eed0cc52-43d0-45c1-a388-65b8a7182d34",
   "metadata": {},
   "outputs": [],
   "source": [
    "dict_subgraph_summ = {s: len(size_indexed[s]) for s in size_indexed.keys()}\n",
    "\n",
    "df_subgraph_summ = pd.DataFrame.from_dict(dict_subgraph_summ, orient=\"index\").reset_index()\n",
    "df_subgraph_summ.columns = [\"graph-size\", \"count\"]"
   ]
  },
  {
   "cell_type": "code",
   "execution_count": null,
   "id": "6dba1ffd-5cb6-4ac8-93be-54758b1be220",
   "metadata": {},
   "outputs": [],
   "source": [
    "df_subgraph_summ = df_subgraph_summ.sort_values(by=\"graph-size\", ascending=False)"
   ]
  },
  {
   "cell_type": "code",
   "execution_count": null,
   "id": "97c46932-35b7-4879-a46b-15c203a43889",
   "metadata": {},
   "outputs": [],
   "source": [
    "df_subgraph_summ"
   ]
  },
  {
   "cell_type": "code",
   "execution_count": null,
   "id": "e5230e14-b5da-4b0f-b8f8-602937cbe37c",
   "metadata": {},
   "outputs": [],
   "source": [
    "nx.draw(size_indexed[26][0], with_labels=True)"
   ]
  },
  {
   "cell_type": "markdown",
   "id": "33abf645-4438-4d29-9d24-b07927b9e04c",
   "metadata": {},
   "source": [
    "A review of the heatmap shows many square regions of correlation 0.4 as you move your eyes across the diagonal of the heat map. These are weeks that have high cosine similarity. I see 3 clusters for sure, can make a case for a 4 th cluster"
   ]
  }
 ],
 "metadata": {
  "language_info": {
   "name": "python"
  }
 },
 "nbformat": 4,
 "nbformat_minor": 5
}
