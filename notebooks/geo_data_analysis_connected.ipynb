{
 "cells": [
  {
   "cell_type": "code",
   "execution_count": null,
   "id": "9c032260-528b-4812-b5a9-0223657fa1e2",
   "metadata": {},
   "outputs": [],
   "source": [
    "import pandas as pd\n",
    "import geopandas\n",
    "import matplotlib.pyplot as plt\n",
    "from geodatasets import get_path"
   ]
  },
  {
   "cell_type": "code",
   "execution_count": null,
   "id": "9830123d-aea8-48cf-a3da-f52f9ef9af73",
   "metadata": {},
   "outputs": [],
   "source": [
    "fp = \"../data/olist_prepared/SP_lat_long.csv\"\n",
    "dfll = pd.read_csv(fp)"
   ]
  },
  {
   "cell_type": "code",
   "execution_count": null,
   "id": "fc597b8b-e628-475c-a100-b6d950c87534",
   "metadata": {},
   "outputs": [],
   "source": [
    "dfll"
   ]
  },
  {
   "cell_type": "code",
   "execution_count": null,
   "id": "6535e499-d0a2-4bb3-97f5-df972ca30265",
   "metadata": {},
   "outputs": [],
   "source": [
    "fp = \"../data/olist_prepared/SP_connected_data_2017.csv\"\n",
    "dfconn = pd.read_csv(fp)"
   ]
  },
  {
   "cell_type": "code",
   "execution_count": null,
   "id": "10f201d4-d1f8-44e1-bf81-f3f5a3dbe1d7",
   "metadata": {},
   "outputs": [],
   "source": [
    "dfconn = dfconn.rename(columns={\"city\": \"name\"})"
   ]
  },
  {
   "cell_type": "code",
   "execution_count": null,
   "id": "8954962b-7b06-4cd1-a55a-9b7ff530436e",
   "metadata": {},
   "outputs": [],
   "source": [
    "dfconn"
   ]
  },
  {
   "cell_type": "code",
   "execution_count": null,
   "id": "c7be4d4d-a979-4b96-b148-1e047012161d",
   "metadata": {},
   "outputs": [],
   "source": [
    "df_cities = pd.merge(dfconn, dfll, on=\"name\")"
   ]
  },
  {
   "cell_type": "code",
   "execution_count": null,
   "id": "573180ff-d657-4cf3-9793-5ea044058c7d",
   "metadata": {},
   "outputs": [],
   "source": [
    "df_cities"
   ]
  },
  {
   "cell_type": "markdown",
   "id": "8ea37540-6757-41e5-b039-1a0042b86163",
   "metadata": {},
   "source": [
    "# Data Errors in the customer state column\n",
    "It looks like there are data errors in the customer state columns. These may be intentional or an artifact of the errors in data engineering. This can happen. Originally when I plotted the latitude and longitude of some cities labeled as in SP state in the data, I got values of latitude and longitude outside the Sao Paulo region. The range of latitude and longitude were determined from a google search and then these were applied to remove the errorneous points. There may still be some errors because these estimates for the range of latitude for Sao Paulo state may need tuning."
   ]
  },
  {
   "cell_type": "code",
   "execution_count": null,
   "id": "b5494f08-71de-4e56-8e98-8681f3cd610d",
   "metadata": {},
   "outputs": [],
   "source": [
    "df_cities.latitude.describe()"
   ]
  },
  {
   "cell_type": "code",
   "execution_count": null,
   "id": "c5c67e23-da31-4bd0-834f-d2e5b478d3af",
   "metadata": {},
   "outputs": [],
   "source": [
    "df_cities.longitude.describe()"
   ]
  },
  {
   "cell_type": "code",
   "execution_count": null,
   "id": "053b450b-2e8d-4f0c-a995-1776836da617",
   "metadata": {},
   "outputs": [],
   "source": [
    "lat_min = - 26\n",
    "lat_max = - 20\n",
    "valid_lat = (df_cities.latitude >= lat_min) & (df_cities.latitude <= lat_max)\n",
    "df_cities = df_cities[valid_lat]\n",
    "long_min = -56 \n",
    "long_max = -44\n",
    "valid_long = (df_cities.longitude >= long_min) & (df_cities.longitude <= long_max)\n",
    "df_cities = df_cities[valid_long]\n",
    "df_cities.shape\n"
   ]
  },
  {
   "cell_type": "code",
   "execution_count": null,
   "id": "e27709e4-0500-4568-b3e7-92217fa085cf",
   "metadata": {},
   "outputs": [],
   "source": [
    "gdf_iid = geopandas.GeoDataFrame(\n",
    "    df_cities, geometry=geopandas.points_from_xy(df_cities.longitude, df_cities.latitude), crs=\"EPSG:4326\"\n",
    ")\n"
   ]
  },
  {
   "cell_type": "code",
   "execution_count": null,
   "id": "8fd35451-1cff-4bbc-ab71-9f177233c895",
   "metadata": {},
   "outputs": [],
   "source": [
    "gdf_iid"
   ]
  },
  {
   "cell_type": "code",
   "execution_count": null,
   "id": "517d70a3-05a4-4268-93c3-5afd6a56f13a",
   "metadata": {},
   "outputs": [],
   "source": [
    "import geobr\n",
    "import matplotlib.pyplot as plt\n",
    "import pandas as pd\n",
    "\n",
    "%matplotlib inline"
   ]
  },
  {
   "cell_type": "code",
   "execution_count": null,
   "id": "4b428b41-f060-4a5d-a79e-4c05cfb3d1bb",
   "metadata": {},
   "outputs": [],
   "source": [
    "gdf_iid"
   ]
  },
  {
   "cell_type": "code",
   "execution_count": null,
   "id": "450aed44-e3e1-4c3c-9c0a-e0d0be71ecdc",
   "metadata": {},
   "outputs": [],
   "source": [
    "# Plot all Brazilian states\n",
    "# State of Sao Paulo\n",
    "states = state = geobr.read_state(code_state=\"SP\", year=2018)\n",
    "\n",
    "fig, ax = plt.subplots(figsize=(15, 15), dpi=300)\n",
    "\n",
    "base = states.plot(facecolor=\"white\", edgecolor=\"black\", ax=ax)\n",
    "gdf_iid.plot(ax=base, color=\"red\")\n",
    "for x, y, label in zip(gdf_iid.geometry.x, gdf_iid.geometry.y, gdf_iid['name']):\n",
    "    ax.text(x, y, label, fontsize=10)\n",
    "ax.set_title(\"Cities where Purchase Behavior is connected\", fontsize=20)\n",
    "\n",
    "ax.axis(\"off\")"
   ]
  },
  {
   "cell_type": "code",
   "execution_count": null,
   "id": "a93fc3c2-1b9e-4673-a375-e7bb584f8461",
   "metadata": {},
   "outputs": [],
   "source": []
  },
  {
   "cell_type": "code",
   "execution_count": null,
   "id": "89600be8-df20-4c80-991d-fe9981e1b4ed",
   "metadata": {},
   "outputs": [],
   "source": []
  }
 ],
 "metadata": {
  "language_info": {
   "name": "python"
  }
 },
 "nbformat": 4,
 "nbformat_minor": 5
}
