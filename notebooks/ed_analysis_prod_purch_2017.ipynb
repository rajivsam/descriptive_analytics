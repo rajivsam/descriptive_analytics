{
 "cells": [
  {
   "cell_type": "code",
   "execution_count": null,
   "id": "e2eefb77-67e0-4d3f-b065-0c7f56f63cd4",
   "metadata": {},
   "outputs": [],
   "source": [
    "import pandas as pd\n",
    "fp = \"../data/olist_prepared/SP_ED_2017.csv\"\n",
    "df = pd.read_csv(fp)"
   ]
  },
  {
   "cell_type": "markdown",
   "id": "fce6b1e2-4c85-43dc-9282-c815e1284a91",
   "metadata": {},
   "source": [
    "The distance metric analyzed here is the euclidean distance metric. The distance between two weeks is small when the vector representation of each of the weeks are close to each other, that is the distance between them is small or the lengths are similar. The cosine similarity emphasizes similarity of direction in contrast - as long as two vectors have the same components, their similarity will be high. In contrast, euclidean similarity which is 1 - euclidean distance will be high when the euclidean distance between the points is small."
   ]
  },
  {
   "cell_type": "code",
   "execution_count": null,
   "id": "aa53d0cc-8faa-4b0a-846c-a1df4ddeb30d",
   "metadata": {},
   "outputs": [],
   "source": [
    "week_cols = df.columns.tolist()"
   ]
  },
  {
   "cell_type": "code",
   "execution_count": null,
   "id": "30fcb268-39d8-481e-b613-a58b15f3771f",
   "metadata": {},
   "outputs": [],
   "source": [
    "df_unrolled = pd.DataFrame(df.values.reshape(df.shape[0] * df.shape[0],1)).reset_index(drop=True)\n",
    "df_unrolled.columns = [\"ED\"]"
   ]
  },
  {
   "cell_type": "code",
   "execution_count": null,
   "id": "4ab48eaa-efe1-4cc2-a513-f75bdfaaa254",
   "metadata": {},
   "outputs": [],
   "source": [
    "import plotly.express as px\n",
    "\n",
    "# Create a histogram\n",
    "fig = px.histogram(df_unrolled.ED, x=\"ED\",\n",
    "                  title=\"Distribution of Euclidean Similarity for 2017\")\n",
    "fig.show()"
   ]
  },
  {
   "cell_type": "code",
   "execution_count": null,
   "id": "8bbfc24c-4a62-4df3-be30-31a9ef37e807",
   "metadata": {},
   "outputs": [],
   "source": [
    "from sklearn.cluster import SpectralClustering"
   ]
  },
  {
   "cell_type": "code",
   "execution_count": null,
   "id": "02857250-c20c-4d7a-b8b1-0a73abe3e11f",
   "metadata": {},
   "outputs": [],
   "source": [
    "clustering = SpectralClustering(n_clusters=2, affinity=\"precomputed\",\n",
    "        assign_labels='cluster_qr',\n",
    "        random_state=0).fit(df)"
   ]
  },
  {
   "cell_type": "code",
   "execution_count": null,
   "id": "a7acf37a-dbe9-4fdb-89be-fd4d1f3c56d5",
   "metadata": {},
   "outputs": [],
   "source": [
    "cluster_info = {\"woy\": week_cols, \"cluster\": clustering.labels_}"
   ]
  },
  {
   "cell_type": "code",
   "execution_count": null,
   "id": "7d75d7ab-b48f-4888-8456-2af0eb606db7",
   "metadata": {},
   "outputs": [],
   "source": [
    "df_cluster_info = pd.DataFrame.from_dict(cluster_info, orient=\"columns\")\n",
    "df_cluster_info[\"cluster\"] = df_cluster_info[\"cluster\"].astype(str)\n",
    "df_cluster_info[\"woy\"] = df_cluster_info[\"woy\"].astype(int)"
   ]
  },
  {
   "cell_type": "code",
   "execution_count": null,
   "id": "97f38f8a-f2bc-4e72-bf90-e27867a46079",
   "metadata": {},
   "outputs": [],
   "source": [
    "fp = \"../data/olist_prepared/SP_weekly_revenue.csv\"\n",
    "df_weekly_rev = pd.read_csv(fp)"
   ]
  },
  {
   "cell_type": "code",
   "execution_count": null,
   "id": "80a68371-7a43-43b6-92dc-03e7523646e8",
   "metadata": {},
   "outputs": [],
   "source": [
    "filter_2017 = df_weekly_rev[\"year\"] == 2017\n",
    "df_weekly_rev_2017 = df_weekly_rev[filter_2017]\n",
    "df_weekly_rev_2017.loc[:, \"woy\"] = df_weekly_rev_2017[\"woy\"].astype(int)"
   ]
  },
  {
   "cell_type": "code",
   "execution_count": null,
   "id": "b204eba3-89d0-448f-9e4d-1c0c8d402686",
   "metadata": {},
   "outputs": [],
   "source": [
    "df_result = pd.merge(df_cluster_info, df_weekly_rev_2017, on=\"woy\")"
   ]
  },
  {
   "cell_type": "code",
   "execution_count": null,
   "id": "2ad88c41-8dea-42f6-ba4e-6a796edc3cc5",
   "metadata": {},
   "outputs": [],
   "source": [
    "fig = px.violin(df_result, y=\"weekly_revenue\", x=\"cluster\", box=True, points=\"all\")\n",
    "fig.show()"
   ]
  },
  {
   "cell_type": "code",
   "execution_count": null,
   "id": "f52d2d13-6ebf-42a4-a06c-46c3b68d6905",
   "metadata": {},
   "outputs": [],
   "source": [
    "fig = px.scatter(df_result, x='woy', y='weekly_revenue', text='cluster', color='cluster')\n",
    "\n",
    "# Update layout to show labels\n",
    "fig.update_traces(textposition='top center')\n",
    "\n",
    "fig.show()"
   ]
  }
 ],
 "metadata": {
  "language_info": {
   "name": "python"
  }
 },
 "nbformat": 4,
 "nbformat_minor": 5
}
