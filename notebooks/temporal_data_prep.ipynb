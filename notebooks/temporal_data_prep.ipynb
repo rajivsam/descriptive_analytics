{
 "cells": [
  {
   "cell_type": "code",
   "execution_count": null,
   "id": "701a5b61-bbc9-408f-8271-799262c79562",
   "metadata": {},
   "outputs": [],
   "source": [
    "import pandas as pd\n",
    "fp = \"../data/olist_prepared/olist_daily_orders_prepared.csv\"\n",
    "df = pd.read_csv(fp)"
   ]
  },
  {
   "cell_type": "code",
   "execution_count": null,
   "id": "f2ed672e-1687-436c-a97f-a3c78ea7309e",
   "metadata": {},
   "outputs": [],
   "source": [
    "df[\"order_purchase_timestamp\"] = pd.to_datetime(df[\"order_purchase_timestamp\"]) "
   ]
  },
  {
   "cell_type": "code",
   "execution_count": null,
   "id": "2065a99c-d150-44db-b6ed-57610b0aef7f",
   "metadata": {},
   "outputs": [],
   "source": [
    "df[\"year\"] = df[\"order_purchase_timestamp\"].dt.year\n",
    "df[\"month\"] = df[\"order_purchase_timestamp\"].dt.month\n",
    "df[\"woy\"] = df[\"order_purchase_timestamp\"].dt.isocalendar().week"
   ]
  },
  {
   "cell_type": "code",
   "execution_count": null,
   "id": "45349947-994a-4ff9-8817-dbd1fe83e35e",
   "metadata": {},
   "outputs": [],
   "source": [
    "df_weekly_orders = df.groupby([\"year\", \"woy\"])[\"order_id\"].nunique().reset_index()\n",
    "df_weekly_orders.columns = [\"year\", \"woy\", \"num_orders\"]"
   ]
  },
  {
   "cell_type": "code",
   "execution_count": null,
   "id": "9a5e5a7e-8946-47ad-b778-060c1128a524",
   "metadata": {},
   "outputs": [],
   "source": [
    "df_weekly_revenue = df.groupby([\"year\", \"woy\"])[\"price\"].sum().reset_index()"
   ]
  },
  {
   "cell_type": "code",
   "execution_count": null,
   "id": "e56d91d5-2c4c-447d-9247-e16a601a8c74",
   "metadata": {},
   "outputs": [],
   "source": [
    "df_weekly_revenue.columns = [\"year\", \"woy\", \"weekly_revenue\"]"
   ]
  },
  {
   "cell_type": "code",
   "execution_count": null,
   "id": "1d9eae54-568b-4b2b-b2d8-2f6d39981646",
   "metadata": {},
   "outputs": [],
   "source": [
    "df_weekly_performance = pd.merge(df_weekly_orders, df_weekly_revenue, on = [\"year\", \"woy\"])"
   ]
  },
  {
   "cell_type": "code",
   "execution_count": null,
   "id": "9d51f23e-389c-43c8-b527-49070892353c",
   "metadata": {},
   "outputs": [],
   "source": [
    "df_weekly_performance[\"avg_rev_per_order\"] = df_weekly_performance[\"weekly_revenue\"]/df_weekly_performance[\"num_orders\"]"
   ]
  },
  {
   "cell_type": "code",
   "execution_count": null,
   "id": "fd9436bc-0835-4947-a150-db9063e35ca6",
   "metadata": {},
   "outputs": [],
   "source": [
    "df_weekly_performance[\"avg_rev_per_order\"] = df_weekly_performance[\"avg_rev_per_order\"].round(3)\n",
    "df_weekly_performance = df_weekly_performance.round(2)"
   ]
  },
  {
   "cell_type": "code",
   "execution_count": null,
   "id": "8f4b7181-b4c0-4f5c-bc41-130f93121f61",
   "metadata": {},
   "outputs": [],
   "source": [
    "df_weekly_performance"
   ]
  },
  {
   "cell_type": "code",
   "execution_count": null,
   "id": "3fa5ab53-8d2f-4225-986c-ac36f6192f9f",
   "metadata": {},
   "outputs": [],
   "source": [
    "fp_weekly_revenue = \"../data/olist_prepared/olist_weekly_revenue_performance.csv\"\n",
    "df_weekly_performance.to_csv(fp_weekly_revenue, index=False)"
   ]
  },
  {
   "cell_type": "code",
   "execution_count": null,
   "id": "66626aa1-cee2-4826-bad7-f41c885efc86",
   "metadata": {},
   "outputs": [],
   "source": [
    "df"
   ]
  },
  {
   "cell_type": "code",
   "execution_count": null,
   "id": "9e45cde7-c7b6-4487-b62f-c28410ce59d2",
   "metadata": {},
   "outputs": [],
   "source": []
  }
 ],
 "metadata": {
  "language_info": {
   "name": "python"
  }
 },
 "nbformat": 4,
 "nbformat_minor": 5
}
