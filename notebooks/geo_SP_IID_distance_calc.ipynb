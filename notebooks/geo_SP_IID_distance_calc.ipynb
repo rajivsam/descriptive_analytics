{
 "cells": [
  {
   "cell_type": "code",
   "execution_count": null,
   "id": "58e6c64b-97df-4da5-8a2e-f562244f693e",
   "metadata": {},
   "outputs": [],
   "source": [
    "import pandas as pd\n",
    "fp = \"../data/olist_prepared/SP_IID_cities.csv\"\n",
    "df = pd.read_csv(fp)\n",
    "cities_IID = df.columns.tolist()\n",
    "del df"
   ]
  },
  {
   "cell_type": "code",
   "execution_count": null,
   "id": "4a75030f-1bf1-42fe-87c0-806c0353e644",
   "metadata": {},
   "outputs": [],
   "source": [
    "fp = \"../data/olist_prepared/SP_lat_long.csv\"\n",
    "dfll = pd.read_csv(fp)\n",
    "lookup_dict = {}\n",
    "for index, row in dfll.iterrows():\n",
    "    lookup_dict[row[\"name\"]] = (row[\"latitude\"], row[\"longitude\"])\n",
    "del dfll"
   ]
  },
  {
   "cell_type": "code",
   "execution_count": null,
   "id": "998d144e-2579-4679-9d1e-d15d58fa0d7f",
   "metadata": {},
   "outputs": [],
   "source": [
    "import itertools\n",
    "cp = list(itertools.product(cities_IID,cities_IID))"
   ]
  },
  {
   "cell_type": "code",
   "execution_count": null,
   "id": "22705ad0-811c-4a3a-86dd-a138c87791ba",
   "metadata": {},
   "outputs": [],
   "source": [
    "from geopy import distance\n",
    "dist_dict = {}\n",
    "\n",
    "for city_pair in cp:\n",
    "    c1 = city_pair[0]\n",
    "    c2 = city_pair[1]\n",
    "    rev_pair = (c2,c1)\n",
    "    if c1 == c2:\n",
    "        dist_dict[city_pair] = 0\n",
    "    elif rev_pair in dist_dict:\n",
    "        dist_dict[city_pair] = dist_dict[rev_pair]\n",
    "    else:\n",
    "        c1ll = lookup_dict[c1]\n",
    "        c2ll = lookup_dict[c2]\n",
    "        dist_dict[city_pair] = round(distance.distance(c1ll,c2ll).km, 3)\n",
    "            "
   ]
  },
  {
   "cell_type": "code",
   "execution_count": null,
   "id": "c290ad07-90cc-46d2-aff4-1e7b04c073e0",
   "metadata": {},
   "outputs": [],
   "source": [
    "data_frame_dict = {\"city-1\": [], \"city-2\": [], \"distance-km\":[]}\n",
    "for k,v in dist_dict.items():\n",
    "    c1 = k[0]\n",
    "    c2 = k[1]\n",
    "    d = v\n",
    "    data_frame_dict[\"city-1\"].append(c1)\n",
    "    data_frame_dict[\"city-2\"].append(c2)\n",
    "    data_frame_dict[\"distance-km\"].append(d)"
   ]
  },
  {
   "cell_type": "code",
   "execution_count": null,
   "id": "100c7e37-5119-4593-aab4-a3b189e7f51c",
   "metadata": {},
   "outputs": [],
   "source": [
    "df_unrolled = pd.DataFrame.from_dict(data_frame_dict)"
   ]
  },
  {
   "cell_type": "code",
   "execution_count": null,
   "id": "7c4524b3-24aa-4795-8f01-2a3904b5ee74",
   "metadata": {},
   "outputs": [],
   "source": [
    "df_spatial_dist = pd.DataFrame.pivot_table(df_unrolled, index = \"city-1\", columns=\"city-2\", values=\"distance-km\")"
   ]
  },
  {
   "cell_type": "code",
   "execution_count": null,
   "id": "c9878b2a-1c00-4984-9b55-6cdcaba0b21b",
   "metadata": {},
   "outputs": [],
   "source": [
    "fp = \"../data/olist_prepared/SP_spatial_dist_IID_cities.csv\"\n",
    "df_spatial_dist.to_csv(fp, index=False)"
   ]
  },
  {
   "cell_type": "code",
   "execution_count": null,
   "id": "7ae25d53-fe70-40fc-b471-ab07afc91df3",
   "metadata": {},
   "outputs": [],
   "source": [
    "df_unrolled[\"distance-km\"].plot.hist()"
   ]
  },
  {
   "cell_type": "code",
   "execution_count": null,
   "id": "a4e11944-50af-4b8a-872a-75e62e19d840",
   "metadata": {},
   "outputs": [],
   "source": []
  }
 ],
 "metadata": {
  "language_info": {
   "name": "python"
  }
 },
 "nbformat": 4,
 "nbformat_minor": 5
}
