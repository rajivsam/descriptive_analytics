{
 "cells": [
  {
   "cell_type": "markdown",
   "id": "ae3551a6-ca9a-4df0-ab30-5dd451bebc51",
   "metadata": {},
   "source": [
    "## Profile of Clusters\n",
    "The purpose of this notebook is to profile the clusters in the frequently purchased inventory items. Non-Negative Matrix factorization is used for this purpose. It looks like the factorization achieved has the separable property. Matrix factorization attempts to factorize a matrix $\\mathbf{X}$ as  $\\mathbf{X} \\approx \\mathbf{W}.\\mathbf{H}$, where $\\mathbf{H}$ is a topic matrix (here a topics are defined on the inventory of frequently purchased items) and $\\mathbf{W}$ is a topic mixing matrix that defines the mixture of topics for a particular week. It looks like the $\\mathbf{H}$ matrix is seperable, that is it contains **anchor** items, these are elements of the topic that are not found in other topics. [NIMFA](https://ai.stanford.edu/~marinka/nimfa/) used to have an explicit implementation of separable NMF, but it looks like it is not maintained anymore and there is a NUMPY version error that needs to be fixed. The scikit-learn version works, looks like the separable property is achieved in the solution."
   ]
  },
  {
   "cell_type": "code",
   "execution_count": null,
   "id": "76f66d06-069c-4bd7-b195-fc65c8e57ad0",
   "metadata": {},
   "outputs": [],
   "source": [
    "import pandas as pd"
   ]
  },
  {
   "cell_type": "code",
   "execution_count": null,
   "id": "9bf63e7b-1167-48ff-ac05-22827c185b9d",
   "metadata": {},
   "outputs": [],
   "source": [
    "fp = \"../data/olist_prepared/freq_prod_weekly_sale_SP_2017.parquet\"\n",
    "df = pd.read_parquet(fp)"
   ]
  },
  {
   "cell_type": "code",
   "execution_count": null,
   "id": "661546e1-cd6a-4d04-b0f9-d921e3a9e13d",
   "metadata": {},
   "outputs": [],
   "source": [
    "X = df.values"
   ]
  },
  {
   "cell_type": "code",
   "execution_count": null,
   "id": "a06ae47c-e593-4e4d-85fe-d4deb72b8c37",
   "metadata": {},
   "outputs": [],
   "source": [
    "from sklearn.decomposition import NMF"
   ]
  },
  {
   "cell_type": "code",
   "execution_count": null,
   "id": "43eae614-6808-48c2-911d-dd4528bb913c",
   "metadata": {},
   "outputs": [],
   "source": [
    "model = NMF(n_components=2, init='random', random_state=0)"
   ]
  },
  {
   "cell_type": "code",
   "execution_count": null,
   "id": "2664881f-5db1-4ed1-b323-8ce36f76f777",
   "metadata": {},
   "outputs": [],
   "source": [
    "W = model.fit_transform(X)\n",
    "H = model.components_"
   ]
  },
  {
   "cell_type": "code",
   "execution_count": null,
   "id": "1a9824c6-322d-46d9-bdfa-21d666e23ea4",
   "metadata": {},
   "outputs": [],
   "source": [
    "import numpy as np\n",
    "X_hat = W @ H\n",
    "np.mean(np.sum((X_hat - X) ** 2, axis=1) / np.sum(X ** 2, axis=1))"
   ]
  },
  {
   "cell_type": "code",
   "execution_count": null,
   "id": "906ba140-381a-45af-bb93-bdfa53ff533a",
   "metadata": {},
   "outputs": [],
   "source": [
    "H"
   ]
  },
  {
   "cell_type": "code",
   "execution_count": null,
   "id": "b2825797-3cda-429d-9084-b99a66b6dd15",
   "metadata": {},
   "outputs": [],
   "source": [
    "prod_list = df.columns.tolist()"
   ]
  },
  {
   "cell_type": "code",
   "execution_count": null,
   "id": "4efecd83-ba4c-457c-a589-2fcaecf03794",
   "metadata": {},
   "outputs": [],
   "source": [
    "c1 = H[0] > 0\n",
    "c2 = H[1] > 0"
   ]
  },
  {
   "cell_type": "code",
   "execution_count": null,
   "id": "bd439adb-534d-461e-bb83-e3348bd27608",
   "metadata": {},
   "outputs": [],
   "source": [
    "df_prod = pd.DataFrame({\"prod_id\": prod_list})"
   ]
  },
  {
   "cell_type": "markdown",
   "id": "735cb974-31d6-499c-8a8c-525f5209795b",
   "metadata": {},
   "source": [
    "## Separablity\n",
    "This section checks for separablity of the basis matrix $\\mathbf{H}$. It looks like the basis matrix has the separable property"
   ]
  },
  {
   "cell_type": "code",
   "execution_count": null,
   "id": "159549bf-b158-413e-a35d-71797a3f8a6d",
   "metadata": {},
   "outputs": [],
   "source": [
    "set_c1 = set(df_prod[c1])\n",
    "set_c2 = set(df_prod[c2])"
   ]
  },
  {
   "cell_type": "code",
   "execution_count": null,
   "id": "2919a055-f69a-4560-a18c-918f3d794d8b",
   "metadata": {},
   "outputs": [],
   "source": [
    "fp = \"../data/olist_raw/olist_products_dataset.csv\"\n",
    "dfp = pd.read_csv(fp)"
   ]
  },
  {
   "cell_type": "code",
   "execution_count": null,
   "id": "bc0559a9-2b7e-4a18-9357-a7473d59ca44",
   "metadata": {},
   "outputs": [],
   "source": [
    "dfp"
   ]
  },
  {
   "cell_type": "code",
   "execution_count": null,
   "id": "3d4b2d36-1c57-48a2-8c88-8aeac66d5492",
   "metadata": {},
   "outputs": [],
   "source": [
    "c1 = set(df_prod[H[0] > 0][\"prod_id\"])\n",
    "c2 = set(df_prod[H[1] > 0][\"prod_id\"])"
   ]
  },
  {
   "cell_type": "code",
   "execution_count": null,
   "id": "b5da36c0-1e0d-475e-916f-e4607cb3b822",
   "metadata": {},
   "outputs": [],
   "source": [
    "df_unique_c1 = pd.DataFrame(c1.difference(c2))\n",
    "df_unique_c1.columns = [\"product_id\"]"
   ]
  },
  {
   "cell_type": "code",
   "execution_count": null,
   "id": "c919f938-0b32-42ff-89f9-9781c85ed50c",
   "metadata": {},
   "outputs": [],
   "source": [
    "df_unique_c1 = pd.merge(df_unique_c1, dfp, on=\"product_id\")\n",
    "cols_needed = [\"product_category_name\"]\n",
    "df_unique_c1 = df_unique_c1[cols_needed]"
   ]
  },
  {
   "cell_type": "code",
   "execution_count": null,
   "id": "f40820b0-2719-463a-9974-a4aa303ffa42",
   "metadata": {},
   "outputs": [],
   "source": [
    "df_unique_c2 =  pd.DataFrame(c2.difference(c1))\n",
    "df_unique_c2.columns = [\"product_id\"]\n",
    "df_unique_c2 = pd.merge(df_unique_c2, dfp, on=\"product_id\")\n",
    "cols_needed = [\"product_category_name\"]\n",
    "df_unique_c2 = df_unique_c2[cols_needed]"
   ]
  },
  {
   "cell_type": "markdown",
   "id": "ffcc0898-5ef4-40ab-9e37-d59efd4a707c",
   "metadata": {},
   "source": [
    "## Signature Items of each Topic\n",
    "The dataframes `df_unique_c1` and `df_unique_c2` contain the signature components of each topic"
   ]
  },
  {
   "cell_type": "code",
   "execution_count": null,
   "id": "51f190ca-49c8-490b-8930-c8374a88ffad",
   "metadata": {},
   "outputs": [],
   "source": [
    "df_unique_c2.head(20)"
   ]
  },
  {
   "cell_type": "code",
   "execution_count": null,
   "id": "fcecdb2a-f9d3-4e12-b693-cbf83c5f6d4b",
   "metadata": {},
   "outputs": [],
   "source": [
    "df_unique_c1.head(20)"
   ]
  },
  {
   "cell_type": "markdown",
   "id": "fd9009bd-701b-46c9-877a-561bee8d6e40",
   "metadata": {},
   "source": [
    "## Profile Clusters"
   ]
  },
  {
   "cell_type": "code",
   "execution_count": null,
   "id": "dde6364b-a719-47d7-abf0-4603843fab29",
   "metadata": {},
   "outputs": [],
   "source": [
    "fpc = \"../data/olist_prepared/SP_2017_cs_cluster_info.csv\"\n",
    "df_fpc = pd.read_csv(fpc)"
   ]
  },
  {
   "cell_type": "code",
   "execution_count": null,
   "id": "4c6c8aa3-607f-4243-9cc0-db53f7847984",
   "metadata": {},
   "outputs": [],
   "source": [
    "df = pd.merge(df, df_fpc, on=\"woy\")"
   ]
  },
  {
   "cell_type": "code",
   "execution_count": null,
   "id": "dc8cef47-14ee-45d1-a270-092bccfc133f",
   "metadata": {},
   "outputs": [],
   "source": [
    "df.cluster.unique()"
   ]
  },
  {
   "cell_type": "code",
   "execution_count": null,
   "id": "9e2a873d-0d18-4c6c-8f64-1f66ef858bf2",
   "metadata": {},
   "outputs": [],
   "source": [
    "c2_ind = df[\"cluster\"] == 2\n",
    "c1_ind = df[\"cluster\"] == 1\n",
    "c0_ind = df[\"cluster\"] == 0"
   ]
  },
  {
   "cell_type": "code",
   "execution_count": null,
   "id": "679d842f-6ddb-4599-99c7-3261d3d1db3f",
   "metadata": {},
   "outputs": [],
   "source": [
    "c2_mix = (W[c2_ind][0].mean(), W[c2_ind][1].mean())\n",
    "c1_mix = (W[c1_ind][0].mean(), W[c1_ind][1].mean())\n",
    "c0_mix = (W[c0_ind][0].mean(), W[c0_ind][1].mean())"
   ]
  },
  {
   "cell_type": "code",
   "execution_count": null,
   "id": "f311bcc2-68eb-4813-80c3-18ee792aca28",
   "metadata": {},
   "outputs": [],
   "source": [
    "c1_mix"
   ]
  },
  {
   "cell_type": "code",
   "execution_count": null,
   "id": "0c66fb15-b905-4749-b804-0079260cd034",
   "metadata": {},
   "outputs": [],
   "source": [
    "c0_mix"
   ]
  }
 ],
 "metadata": {
  "language_info": {
   "name": "python"
  }
 },
 "nbformat": 4,
 "nbformat_minor": 5
}
