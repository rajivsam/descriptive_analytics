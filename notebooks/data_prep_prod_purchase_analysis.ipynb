{
 "cells": [
  {
   "cell_type": "code",
   "execution_count": null,
   "id": "fbcd6416-41f6-41f2-91da-16e409471140",
   "metadata": {},
   "outputs": [],
   "source": [
    "import pandas as pd\n",
    "fp = \"../data/olist_prepared/olist_daily_orders_prepared.csv\"\n",
    "df = pd.read_csv(fp)"
   ]
  },
  {
   "cell_type": "code",
   "execution_count": null,
   "id": "5e743045-82ed-4e2a-bfd9-78c9570332e5",
   "metadata": {},
   "outputs": [],
   "source": [
    "# drop all order items that are not frequent purchases\n",
    "df = df[df[\"freq_purch_prod\"]].reset_index(drop=True)"
   ]
  },
  {
   "cell_type": "code",
   "execution_count": null,
   "id": "86c05b8b-7763-446d-af4f-404a7181d5ad",
   "metadata": {},
   "outputs": [],
   "source": [
    "# set up the temporal attributes for computation\n",
    "df[\"order_purchase_timestamp\"] = pd.to_datetime(df[\"order_purchase_timestamp\"]) \n",
    "df[\"year\"] = df[\"order_purchase_timestamp\"].dt.year\n",
    "df[\"month\"] = df[\"order_purchase_timestamp\"].dt.month\n",
    "df[\"woy\"] = df[\"order_purchase_timestamp\"].dt.isocalendar().week"
   ]
  },
  {
   "cell_type": "code",
   "execution_count": null,
   "id": "8c0bd9b3-94f9-429c-b6d5-22277defd661",
   "metadata": {},
   "outputs": [],
   "source": [
    "#filter out SP, RJ, MG as reqions of interest\n",
    "geo_filter = df[\"customer_state\"].isin([\"SP\", \"RJ\", \"MG\"])\n",
    "df = df[geo_filter]"
   ]
  },
  {
   "cell_type": "code",
   "execution_count": null,
   "id": "720200f7-5bd1-4ecc-a6a9-a84a6d44a5b0",
   "metadata": {},
   "outputs": [],
   "source": [
    "not_year_2016 = df[\"year\"] != 2016"
   ]
  },
  {
   "cell_type": "code",
   "execution_count": null,
   "id": "aff8ae68-6782-4062-bcee-6eafc58725db",
   "metadata": {},
   "outputs": [],
   "source": [
    "# drop the data for year 2016\n",
    "df = df[not_year_2016]"
   ]
  },
  {
   "cell_type": "code",
   "execution_count": null,
   "id": "c9925846-fdcf-40e2-9c20-06b45eefd63f",
   "metadata": {},
   "outputs": [],
   "source": [
    "df[\"year\"].unique()"
   ]
  },
  {
   "cell_type": "code",
   "execution_count": null,
   "id": "2794b5cc-e4ed-4058-afb9-69856947e1fe",
   "metadata": {},
   "outputs": [],
   "source": [
    "cols_needed = [\"order_id\", \"product_id\", \"price\", \"customer_zip_code_prefix\", \"customer_city\", \"customer_state\", \"year\",\\\n",
    "\"month\", \"woy\"]\n",
    "df = df[cols_needed]"
   ]
  },
  {
   "cell_type": "code",
   "execution_count": null,
   "id": "f2dcad79-1996-4e13-8e5b-eec85dbb34ca",
   "metadata": {},
   "outputs": [],
   "source": [
    "filter_SP = df[\"customer_state\"] == \"SP\"\n",
    "filter_RJ =  df[\"customer_state\"] == \"RJ\"\n",
    "filter_MG =  df[\"customer_state\"] == \"MG\"\n",
    "df_SP = df[filter_SP].reset_index(drop=True)\n",
    "df_RJ = df[filter_RJ].reset_index(drop=True)\n",
    "df_MG = df[filter_MG].reset_index(drop=True)"
   ]
  },
  {
   "cell_type": "code",
   "execution_count": null,
   "id": "b7956f0c-dfdd-42e6-8b1f-f753ef54b318",
   "metadata": {},
   "outputs": [],
   "source": [
    "df_SP_2017 = df_SP[df_SP.year == 2017]\n",
    "\n",
    "df_SP_weekly_FPS_2017 = pd.pivot_table(df_SP_2017, index= \"woy\", values = \"price\", columns= \"product_id\",\\\n",
    "aggfunc=\"sum\", fill_value=0)"
   ]
  },
  {
   "cell_type": "code",
   "execution_count": null,
   "id": "bca6374b-6724-426d-a6ad-5d22498cc0eb",
   "metadata": {},
   "outputs": [],
   "source": [
    "df_SP_weekly_rev = df_SP.groupby([\"year\", \"woy\"])[\"price\"].sum().reset_index()\n",
    "df_SP_weekly_rev.columns = [\"year\", \"woy\", \"weekly_revenue\"]\n",
    "fp = \"../data/olist_prepared/SP_weekly_revenue.csv\"\n",
    "df_SP_weekly_rev.to_csv(fp, index=False)"
   ]
  },
  {
   "cell_type": "code",
   "execution_count": null,
   "id": "ecfe9ca4-4266-42ec-9b9f-d013317ac3f8",
   "metadata": {},
   "outputs": [],
   "source": [
    "df_SP_weekly_rev"
   ]
  },
  {
   "cell_type": "code",
   "execution_count": null,
   "id": "836768a5-c854-4503-aa2c-149bbb7153ea",
   "metadata": {},
   "outputs": [],
   "source": [
    "df_SP_2017 = df_SP[df_SP.year == 2017]"
   ]
  },
  {
   "cell_type": "code",
   "execution_count": null,
   "id": "416ae11a-3ae4-4f6e-ac8e-ce83ba0a9b57",
   "metadata": {},
   "outputs": [],
   "source": [
    "df_SP_weekly_FPS_2017 = pd.pivot_table(df_SP_2017, index= \"woy\", values = \"price\", columns= \"product_id\",\\\n",
    "aggfunc=\"sum\", fill_value=0)"
   ]
  },
  {
   "cell_type": "code",
   "execution_count": null,
   "id": "7d474328-6d13-4ba7-9011-801ead3410d5",
   "metadata": {},
   "outputs": [],
   "source": [
    "df_SP_weekly_FPS_2017"
   ]
  },
  {
   "cell_type": "code",
   "execution_count": null,
   "id": "d6ea0a94-6b55-4fdc-8e5c-ec40145f2ca2",
   "metadata": {},
   "outputs": [],
   "source": [
    "df_SP_2018 = df_SP[df_SP.year == 2018]"
   ]
  },
  {
   "cell_type": "code",
   "execution_count": null,
   "id": "c31d16a1-8e7e-4489-9045-18193e70464b",
   "metadata": {},
   "outputs": [],
   "source": [
    "df_SP_weekly_FPS_2018 = pd.pivot_table(df_SP_2018, index= \"woy\", values = \"price\", columns= \"product_id\",\\\n",
    "aggfunc=\"sum\", fill_value=0)"
   ]
  },
  {
   "cell_type": "code",
   "execution_count": null,
   "id": "3838273e-9314-4271-a716-735c222c2008",
   "metadata": {},
   "outputs": [],
   "source": [
    "from sklearn.metrics.pairwise import cosine_similarity, euclidean_distances"
   ]
  },
  {
   "cell_type": "code",
   "execution_count": null,
   "id": "a6ca138c-4511-4f66-a274-e7a44235cdcb",
   "metadata": {},
   "outputs": [],
   "source": [
    "# Similarity Computation for SP, RJ and MG"
   ]
  },
  {
   "cell_type": "code",
   "execution_count": null,
   "id": "60b0c35f-2cb2-4a8b-ab63-17d11c830916",
   "metadata": {},
   "outputs": [],
   "source": [
    "df_SP_weekly_CS_2017 = pd.DataFrame(cosine_similarity(df_SP_weekly_FPS_2017), columns=df_SP_weekly_FPS_2017.index)\n",
    "df_SP_weekly_CS_2018 = pd.DataFrame(cosine_similarity(df_SP_weekly_FPS_2018), columns=df_SP_weekly_FPS_2018.index)\n",
    "\n",
    "df_SP_weekly_ED_2017 = pd.DataFrame(euclidean_distances(df_SP_weekly_FPS_2017), columns=df_SP_weekly_FPS_2017.index)\n",
    "\n",
    "df_SP_weekly_ED_2018 = pd.DataFrame(euclidean_distances(df_SP_weekly_FPS_2018), columns=df_SP_weekly_FPS_2018.index) "
   ]
  },
  {
   "cell_type": "code",
   "execution_count": null,
   "id": "80a16ebe-827b-4032-98f7-cfd1885da4b3",
   "metadata": {},
   "outputs": [],
   "source": [
    "fp = \"../data/olist_prepared/SP_ED_2017.csv\"\n",
    "df_SP_weekly_ED_2017.to_csv(fp, index=False)\n",
    "fp = \"../data/olist_prepared/SP_ED_2018.csv\"\n",
    "df_SP_weekly_ED_2018.to_csv(fp, index=False)\n",
    "fp = \"../data/olist_prepared/SP_CS_2017.csv\"\n",
    "df_SP_weekly_CS_2017.to_csv(fp, index=False)\n",
    "fp = \"../data/olist_prepared/SP_CS_2018.csv\"\n",
    "df_SP_weekly_CS_2018.to_csv(fp, index=False)\n",
    "fp = \"../data/olist_prepared/freq_prod_weekly_sale_SP_2017.parquet\"\n",
    "df_SP_weekly_FPS_2017.to_parquet(fp, index=True)\n",
    "fp = \"../data/olist_prepared/freq_prod_weekly_sale_SP_2018.parquet\"\n",
    "df_SP_weekly_FPS_2018.to_parquet(fp, index=True)"
   ]
  },
  {
   "cell_type": "code",
   "execution_count": null,
   "id": "8e8d46c3-2021-4fde-b373-4ccc3e74045d",
   "metadata": {},
   "outputs": [],
   "source": [
    "df_SP_weekly_ED_2017.shape"
   ]
  },
  {
   "cell_type": "code",
   "execution_count": null,
   "id": "b5a153e2-b631-4649-8fb1-8966857ac021",
   "metadata": {},
   "outputs": [],
   "source": [
    "df_RJ_2017 = df_RJ[df_RJ.year == 2017]\n",
    "df_RJ_2018 = df_RJ[df_RJ.year == 2018]"
   ]
  },
  {
   "cell_type": "code",
   "execution_count": null,
   "id": "b54d604b-080c-4842-a5e3-fd311f8af3ce",
   "metadata": {},
   "outputs": [],
   "source": [
    "df_RJ_weekly_FPS_2017 = pd.pivot_table(df_RJ_2017, index= \"woy\", values = \"price\", columns= \"product_id\",\\\n",
    "aggfunc=\"sum\", fill_value=0)\n",
    "df_RJ_weekly_FPS_2018 = pd.pivot_table(df_RJ_2018, index= \"woy\", values = \"price\", columns= \"product_id\",\\\n",
    "aggfunc=\"sum\", fill_value=0)\n",
    "df_RJ_weekly_CS_2017 = pd.DataFrame(cosine_similarity(df_RJ_weekly_FPS_2017), columns=df_RJ_weekly_FPS_2017.index)\n",
    "df_RJ_weekly_CS_2018 = pd.DataFrame(cosine_similarity(df_RJ_weekly_FPS_2018), columns=df_RJ_weekly_FPS_2018.index)\n",
    "\n",
    "df_RJ_weekly_ED_2017 = pd.DataFrame(euclidean_distances(df_RJ_weekly_FPS_2017), columns=df_RJ_weekly_FPS_2017.index)\n",
    "df_RJ_weekly_ED_2018 = pd.DataFrame(euclidean_distances(df_RJ_weekly_FPS_2018),columns=df_RJ_weekly_FPS_2018.index) "
   ]
  },
  {
   "cell_type": "code",
   "execution_count": null,
   "id": "8a2558b2-99a1-43d2-9772-0ad7b7a0f2f3",
   "metadata": {},
   "outputs": [],
   "source": [
    "fp = \"../data/olist_prepared/RJ_ED_2017.csv\"\n",
    "df_RJ_weekly_ED_2017.to_csv(fp, index=False)\n",
    "fp = \"../data/olist_prepared/RJ_ED_2018.csv\"\n",
    "df_RJ_weekly_ED_2018.to_csv(fp, index=False)\n",
    "fp = \"../data/olist_prepared/RJ_CS_2017.csv\"\n",
    "df_RJ_weekly_CS_2017.to_csv(fp, index=False)\n",
    "fp = \"../data/olist_prepared/RJ_CS_2018.csv\"\n",
    "df_RJ_weekly_CS_2018.to_csv(fp, index=False)\n",
    "fp = \"../data/olist_prepared/freq_prod_weekly_sale_RJ_2017.parquet\"\n",
    "df_RJ_weekly_FPS_2017.to_parquet(fp, index=True)\n",
    "fp = \"../data/olist_prepared/freq_prod_weekly_sale_RJ_2018.parquet\"\n",
    "df_RJ_weekly_FPS_2018.to_parquet(fp, index=True)"
   ]
  },
  {
   "cell_type": "code",
   "execution_count": null,
   "id": "fde959ee-ceb5-4181-a503-efbf0624b53e",
   "metadata": {},
   "outputs": [],
   "source": [
    "df_MG_2017 = df_MG[df_MG.year == 2017]\n",
    "df_MG_2018 = df_MG[df_MG.year == 2018]"
   ]
  },
  {
   "cell_type": "code",
   "execution_count": null,
   "id": "15d3f9f7-257c-43ef-a099-f6611797d769",
   "metadata": {},
   "outputs": [],
   "source": [
    "df_MG_weekly_FPS_2017 = pd.pivot_table(df_MG_2017, index= \"woy\", values = \"price\", columns= \"product_id\",\\\n",
    "aggfunc=\"sum\", fill_value=0)\n",
    "df_MG_weekly_FPS_2018 = pd.pivot_table(df_MG_2018, index= \"woy\", values = \"price\", columns= \"product_id\",\\\n",
    "aggfunc=\"sum\", fill_value=0)\n",
    "df_MG_weekly_CS_2017 = pd.DataFrame(cosine_similarity(df_MG_weekly_FPS_2017), columns=df_MG_weekly_FPS_2017.index)\n",
    "df_MG_weekly_CS_2018 = pd.DataFrame(cosine_similarity(df_MG_weekly_FPS_2018), columns=df_MG_weekly_FPS_2018.index)\n",
    "\n",
    "df_MG_weekly_ED_2017 = pd.DataFrame(euclidean_distances(df_MG_weekly_FPS_2017), columns=df_MG_weekly_FPS_2017.index)\n",
    "df_MG_weekly_ED_2018 = pd.DataFrame( euclidean_distances(df_MG_weekly_FPS_2018),columns=df_MG_weekly_FPS_2018.index) "
   ]
  },
  {
   "cell_type": "code",
   "execution_count": null,
   "id": "0c6c105f-4cc3-4e66-b700-8f00599c077e",
   "metadata": {},
   "outputs": [],
   "source": [
    "fp = \"../data/olist_prepared/MG_ED_2017.csv\"\n",
    "df_MG_weekly_ED_2017.to_csv(fp, index=False)\n",
    "fp = \"../data/olist_prepared/MG_ED_2018.csv\"\n",
    "df_MG_weekly_ED_2018.to_csv(fp, index=False)\n",
    "fp = \"../data/olist_prepared/MG_CS_2017.csv\"\n",
    "df_MG_weekly_CS_2017.to_csv(fp, index=False)\n",
    "fp = \"../data/olist_prepared/MG_CS_2018.csv\"\n",
    "df_MG_weekly_CS_2018.to_csv(fp, index=False)\n",
    "fp = \"../data/olist_prepared/freq_prod_weekly_sale_MG_2017.parquet\"\n",
    "df_MG_weekly_FPS_2017.to_parquet(fp, index=True)\n",
    "fp = \"../data/olist_prepared/freq_prod_weekly_sale_MG_2018.parquet\"\n",
    "df_MG_weekly_FPS_2018.to_parquet(fp, index=True)"
   ]
  }
 ],
 "metadata": {
  "language_info": {
   "name": "python"
  }
 },
 "nbformat": 4,
 "nbformat_minor": 5
}
