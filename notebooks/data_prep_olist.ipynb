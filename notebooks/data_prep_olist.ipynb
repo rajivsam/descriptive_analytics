{
 "cells": [
  {
   "cell_type": "markdown",
   "id": "403993a9-2570-4d11-b7a7-88ac8e36f751",
   "metadata": {},
   "source": [
    "## Overview\n",
    "The schema for this dataset is shown. As discussed in the steps for data preparation there is a common pattern to preparing operational business data for analysis. There is always a timestamp that captures when the data was captured. Because the objective of this analysis is to segment revenue by various factors, we will define these factors and the attributes for each factor. The factors are customers, products and geography. The sequence of processing steps in this notebook follows the description of the key steps in the concepts document."
   ]
  },
  {
   "cell_type": "markdown",
   "id": "46ff5cc2-fc06-48fb-bf90-440f83fafc29",
   "metadata": {},
   "source": [
    "## Schema for the Olist Dataset"
   ]
  },
  {
   "cell_type": "markdown",
   "id": "3e3d8ac9-4ca1-452a-a55d-f0b7dc8ea6e3",
   "metadata": {},
   "source": [
    "![](../images/olist_schema.png)"
   ]
  },
  {
   "cell_type": "code",
   "execution_count": 1,
   "id": "8187da25-84c1-4e3f-98f6-0e36f80099b8",
   "metadata": {},
   "outputs": [],
   "source": [
    "import pandas as pd\n",
    "fp_orders = \"../data/olist_raw/olist_orders_dataset.csv\"\n",
    "fp_order_items = \"../data/olist_raw/olist_order_items_dataset.csv\"\n",
    "df_orders = pd.read_csv(fp_orders)\n",
    "df_order_items = pd.read_csv(fp_order_items)\n"
   ]
  },
  {
   "cell_type": "markdown",
   "id": "098ad79b-de03-47ba-89d7-44b0d2aa0858",
   "metadata": {},
   "source": [
    "## Filter and Aggregate Steps for Customer Data"
   ]
  },
  {
   "cell_type": "code",
   "execution_count": 2,
   "id": "4f2fe55f-ab9d-40df-859d-14a8775d99bf",
   "metadata": {},
   "outputs": [],
   "source": [
    "cols = df_orders.columns.tolist() + df_order_items.columns.tolist()"
   ]
  },
  {
   "cell_type": "code",
   "execution_count": 3,
   "id": "30242e7e-1224-433f-8ab0-c0504239c221",
   "metadata": {},
   "outputs": [
    {
     "data": {
      "text/plain": [
       "['order_id',\n",
       " 'customer_id',\n",
       " 'order_status',\n",
       " 'order_purchase_timestamp',\n",
       " 'order_approved_at',\n",
       " 'order_delivered_carrier_date',\n",
       " 'order_delivered_customer_date',\n",
       " 'order_estimated_delivery_date',\n",
       " 'order_id',\n",
       " 'order_item_id',\n",
       " 'product_id',\n",
       " 'seller_id',\n",
       " 'shipping_limit_date',\n",
       " 'price',\n",
       " 'freight_value']"
      ]
     },
     "execution_count": 3,
     "metadata": {},
     "output_type": "execute_result"
    }
   ],
   "source": [
    "cols"
   ]
  },
  {
   "cell_type": "code",
   "execution_count": 4,
   "id": "e0c956d0-0d36-411b-865c-ce0fb7bdaa51",
   "metadata": {},
   "outputs": [],
   "source": [
    "cols_needed = [\"order_id\",  'customer_id', \"order_purchase_timestamp\", \"order_item_id\", \"product_id\", \"price\"]"
   ]
  },
  {
   "cell_type": "code",
   "execution_count": 5,
   "id": "78885519-d381-4358-8529-3f3cafadf9a8",
   "metadata": {},
   "outputs": [],
   "source": [
    "df_daily_ord_raw = pd.merge(df_orders, df_order_items, on = \"order_id\")"
   ]
  },
  {
   "cell_type": "code",
   "execution_count": 6,
   "id": "98ab979a-fa4a-40ae-80e5-de5014b6c2cc",
   "metadata": {},
   "outputs": [],
   "source": [
    "df_daily_ord_raw = df_daily_ord_raw[cols_needed]"
   ]
  },
  {
   "cell_type": "code",
   "execution_count": 7,
   "id": "1956edf4-f5bc-466f-bff4-a41599c409f5",
   "metadata": {},
   "outputs": [],
   "source": [
    "df_daily_ord_raw[\"order_purchase_timestamp\"] = pd.to_datetime(df_daily_ord_raw[\"order_purchase_timestamp\"])"
   ]
  },
  {
   "cell_type": "code",
   "execution_count": 8,
   "id": "7dc350e5-136a-45f9-bf2a-061129c85253",
   "metadata": {},
   "outputs": [
    {
     "data": {
      "text/html": [
       "<div>\n",
       "<style scoped>\n",
       "    .dataframe tbody tr th:only-of-type {\n",
       "        vertical-align: middle;\n",
       "    }\n",
       "\n",
       "    .dataframe tbody tr th {\n",
       "        vertical-align: top;\n",
       "    }\n",
       "\n",
       "    .dataframe thead th {\n",
       "        text-align: right;\n",
       "    }\n",
       "</style>\n",
       "<table border=\"1\" class=\"dataframe\">\n",
       "  <thead>\n",
       "    <tr style=\"text-align: right;\">\n",
       "      <th></th>\n",
       "      <th>order_id</th>\n",
       "      <th>customer_id</th>\n",
       "      <th>order_purchase_timestamp</th>\n",
       "      <th>order_item_id</th>\n",
       "      <th>product_id</th>\n",
       "      <th>price</th>\n",
       "    </tr>\n",
       "  </thead>\n",
       "  <tbody>\n",
       "    <tr>\n",
       "      <th>0</th>\n",
       "      <td>e481f51cbdc54678b7cc49136f2d6af7</td>\n",
       "      <td>9ef432eb6251297304e76186b10a928d</td>\n",
       "      <td>2017-10-02 10:56:33</td>\n",
       "      <td>1</td>\n",
       "      <td>87285b34884572647811a353c7ac498a</td>\n",
       "      <td>29.99</td>\n",
       "    </tr>\n",
       "    <tr>\n",
       "      <th>1</th>\n",
       "      <td>53cdb2fc8bc7dce0b6741e2150273451</td>\n",
       "      <td>b0830fb4747a6c6d20dea0b8c802d7ef</td>\n",
       "      <td>2018-07-24 20:41:37</td>\n",
       "      <td>1</td>\n",
       "      <td>595fac2a385ac33a80bd5114aec74eb8</td>\n",
       "      <td>118.70</td>\n",
       "    </tr>\n",
       "    <tr>\n",
       "      <th>2</th>\n",
       "      <td>47770eb9100c2d0c44946d9cf07ec65d</td>\n",
       "      <td>41ce2a54c0b03bf3443c3d931a367089</td>\n",
       "      <td>2018-08-08 08:38:49</td>\n",
       "      <td>1</td>\n",
       "      <td>aa4383b373c6aca5d8797843e5594415</td>\n",
       "      <td>159.90</td>\n",
       "    </tr>\n",
       "    <tr>\n",
       "      <th>3</th>\n",
       "      <td>949d5b44dbf5de918fe9c16f97b45f8a</td>\n",
       "      <td>f88197465ea7920adcdbec7375364d82</td>\n",
       "      <td>2017-11-18 19:28:06</td>\n",
       "      <td>1</td>\n",
       "      <td>d0b61bfb1de832b15ba9d266ca96e5b0</td>\n",
       "      <td>45.00</td>\n",
       "    </tr>\n",
       "    <tr>\n",
       "      <th>4</th>\n",
       "      <td>ad21c59c0840e6cb83a9ceb5573f8159</td>\n",
       "      <td>8ab97904e6daea8866dbdbc4fb7aad2c</td>\n",
       "      <td>2018-02-13 21:18:39</td>\n",
       "      <td>1</td>\n",
       "      <td>65266b2da20d04dbe00c5c2d3bb7859e</td>\n",
       "      <td>19.90</td>\n",
       "    </tr>\n",
       "    <tr>\n",
       "      <th>...</th>\n",
       "      <td>...</td>\n",
       "      <td>...</td>\n",
       "      <td>...</td>\n",
       "      <td>...</td>\n",
       "      <td>...</td>\n",
       "      <td>...</td>\n",
       "    </tr>\n",
       "    <tr>\n",
       "      <th>112645</th>\n",
       "      <td>63943bddc261676b46f01ca7ac2f7bd8</td>\n",
       "      <td>1fca14ff2861355f6e5f14306ff977a7</td>\n",
       "      <td>2018-02-06 12:58:58</td>\n",
       "      <td>1</td>\n",
       "      <td>f1d4ce8c6dd66c47bbaa8c6781c2a923</td>\n",
       "      <td>174.90</td>\n",
       "    </tr>\n",
       "    <tr>\n",
       "      <th>112646</th>\n",
       "      <td>83c1379a015df1e13d02aae0204711ab</td>\n",
       "      <td>1aa71eb042121263aafbe80c1b562c9c</td>\n",
       "      <td>2017-08-27 14:46:43</td>\n",
       "      <td>1</td>\n",
       "      <td>b80910977a37536adeddd63663f916ad</td>\n",
       "      <td>205.99</td>\n",
       "    </tr>\n",
       "    <tr>\n",
       "      <th>112647</th>\n",
       "      <td>11c177c8e97725db2631073c19f07b62</td>\n",
       "      <td>b331b74b18dc79bcdf6532d51e1637c1</td>\n",
       "      <td>2018-01-08 21:28:27</td>\n",
       "      <td>1</td>\n",
       "      <td>d1c427060a0f73f6b889a5c7c61f2ac4</td>\n",
       "      <td>179.99</td>\n",
       "    </tr>\n",
       "    <tr>\n",
       "      <th>112648</th>\n",
       "      <td>11c177c8e97725db2631073c19f07b62</td>\n",
       "      <td>b331b74b18dc79bcdf6532d51e1637c1</td>\n",
       "      <td>2018-01-08 21:28:27</td>\n",
       "      <td>2</td>\n",
       "      <td>d1c427060a0f73f6b889a5c7c61f2ac4</td>\n",
       "      <td>179.99</td>\n",
       "    </tr>\n",
       "    <tr>\n",
       "      <th>112649</th>\n",
       "      <td>66dea50a8b16d9b4dee7af250b4be1a5</td>\n",
       "      <td>edb027a75a1449115f6b43211ae02a24</td>\n",
       "      <td>2018-03-08 20:57:30</td>\n",
       "      <td>1</td>\n",
       "      <td>006619bbed68b000c8ba3f8725d5409e</td>\n",
       "      <td>68.50</td>\n",
       "    </tr>\n",
       "  </tbody>\n",
       "</table>\n",
       "<p>112650 rows × 6 columns</p>\n",
       "</div>"
      ],
      "text/plain": [
       "                                order_id                       customer_id  \\\n",
       "0       e481f51cbdc54678b7cc49136f2d6af7  9ef432eb6251297304e76186b10a928d   \n",
       "1       53cdb2fc8bc7dce0b6741e2150273451  b0830fb4747a6c6d20dea0b8c802d7ef   \n",
       "2       47770eb9100c2d0c44946d9cf07ec65d  41ce2a54c0b03bf3443c3d931a367089   \n",
       "3       949d5b44dbf5de918fe9c16f97b45f8a  f88197465ea7920adcdbec7375364d82   \n",
       "4       ad21c59c0840e6cb83a9ceb5573f8159  8ab97904e6daea8866dbdbc4fb7aad2c   \n",
       "...                                  ...                               ...   \n",
       "112645  63943bddc261676b46f01ca7ac2f7bd8  1fca14ff2861355f6e5f14306ff977a7   \n",
       "112646  83c1379a015df1e13d02aae0204711ab  1aa71eb042121263aafbe80c1b562c9c   \n",
       "112647  11c177c8e97725db2631073c19f07b62  b331b74b18dc79bcdf6532d51e1637c1   \n",
       "112648  11c177c8e97725db2631073c19f07b62  b331b74b18dc79bcdf6532d51e1637c1   \n",
       "112649  66dea50a8b16d9b4dee7af250b4be1a5  edb027a75a1449115f6b43211ae02a24   \n",
       "\n",
       "       order_purchase_timestamp  order_item_id  \\\n",
       "0           2017-10-02 10:56:33              1   \n",
       "1           2018-07-24 20:41:37              1   \n",
       "2           2018-08-08 08:38:49              1   \n",
       "3           2017-11-18 19:28:06              1   \n",
       "4           2018-02-13 21:18:39              1   \n",
       "...                         ...            ...   \n",
       "112645      2018-02-06 12:58:58              1   \n",
       "112646      2017-08-27 14:46:43              1   \n",
       "112647      2018-01-08 21:28:27              1   \n",
       "112648      2018-01-08 21:28:27              2   \n",
       "112649      2018-03-08 20:57:30              1   \n",
       "\n",
       "                              product_id   price  \n",
       "0       87285b34884572647811a353c7ac498a   29.99  \n",
       "1       595fac2a385ac33a80bd5114aec74eb8  118.70  \n",
       "2       aa4383b373c6aca5d8797843e5594415  159.90  \n",
       "3       d0b61bfb1de832b15ba9d266ca96e5b0   45.00  \n",
       "4       65266b2da20d04dbe00c5c2d3bb7859e   19.90  \n",
       "...                                  ...     ...  \n",
       "112645  f1d4ce8c6dd66c47bbaa8c6781c2a923  174.90  \n",
       "112646  b80910977a37536adeddd63663f916ad  205.99  \n",
       "112647  d1c427060a0f73f6b889a5c7c61f2ac4  179.99  \n",
       "112648  d1c427060a0f73f6b889a5c7c61f2ac4  179.99  \n",
       "112649  006619bbed68b000c8ba3f8725d5409e   68.50  \n",
       "\n",
       "[112650 rows x 6 columns]"
      ]
     },
     "execution_count": 8,
     "metadata": {},
     "output_type": "execute_result"
    }
   ],
   "source": [
    "df_daily_ord_raw"
   ]
  },
  {
   "cell_type": "code",
   "execution_count": 9,
   "id": "1350f527-8d72-41d0-b5cf-c0ef8e6199e1",
   "metadata": {},
   "outputs": [],
   "source": [
    "fp_customer = \"../data/olist_raw/olist_customers_dataset.csv\"\n",
    "df_cust = pd.read_csv(fp_customer)\n",
    "cust_cols = [\"customer_id\",\"customer_zip_code_prefix\", \"customer_city\", \"customer_state\"]\n",
    "df_cust = df_cust[cust_cols]"
   ]
  },
  {
   "cell_type": "code",
   "execution_count": 10,
   "id": "fb50df7c-0ed2-4c9c-a0bb-30659317bd3a",
   "metadata": {},
   "outputs": [],
   "source": [
    "df_daily_ord_raw =  pd.merge(df_daily_ord_raw, df_cust, on = \"customer_id\")"
   ]
  },
  {
   "cell_type": "code",
   "execution_count": 11,
   "id": "41a2112c-1027-4dcf-9b79-331ced07731c",
   "metadata": {},
   "outputs": [],
   "source": [
    "df_daily_ord_raw = df_daily_ord_raw.sort_values(by=\"order_id\").reset_index()\n",
    "fp_daily_ord_raw = \"../data/olist_prepared/olist_daily_orders_prepared.csv\"\n",
    "df_daily_ord_raw.to_csv(fp_daily_ord_raw, index=False)"
   ]
  },
  {
   "cell_type": "code",
   "execution_count": 12,
   "id": "696589c1-3af6-4614-b474-5dd0462b8d70",
   "metadata": {},
   "outputs": [],
   "source": [
    "ord_qty_vc = df_daily_ord_raw.order_id.value_counts().values"
   ]
  },
  {
   "cell_type": "code",
   "execution_count": 13,
   "id": "10124f9d-0a53-45f9-946d-1d02dd3909b1",
   "metadata": {},
   "outputs": [
    {
     "data": {
      "text/plain": [
       "array([21, 20, 20, ...,  1,  1,  1], shape=(98666,))"
      ]
     },
     "execution_count": 13,
     "metadata": {},
     "output_type": "execute_result"
    }
   ],
   "source": [
    "ord_qty_vc"
   ]
  },
  {
   "cell_type": "code",
   "execution_count": 14,
   "id": "d0b2d69c-b7dd-43b3-82d7-c0e6ea583a5c",
   "metadata": {},
   "outputs": [],
   "source": [
    "df_gb = df_daily_ord_raw.groupby([df_daily_ord_raw.order_purchase_timestamp.dt.year,\\\n",
    "                                  df_daily_ord_raw.order_purchase_timestamp.dt.day_of_year])"
   ]
  },
  {
   "cell_type": "code",
   "execution_count": 15,
   "id": "c728d223-d39b-449c-a7d5-792284f3ace2",
   "metadata": {},
   "outputs": [],
   "source": [
    "df_prod_purchases = df_daily_ord_raw.product_id.value_counts().reset_index()"
   ]
  },
  {
   "cell_type": "code",
   "execution_count": 16,
   "id": "650f1fad-613d-41b6-8b04-ecf5219e7a60",
   "metadata": {},
   "outputs": [
    {
     "data": {
      "text/plain": [
       "32951"
      ]
     },
     "execution_count": 16,
     "metadata": {},
     "output_type": "execute_result"
    }
   ],
   "source": [
    "len(df_daily_ord_raw.product_id.unique())"
   ]
  },
  {
   "cell_type": "code",
   "execution_count": 17,
   "id": "7cd7d424-bed4-48d1-bf89-422a2c398922",
   "metadata": {},
   "outputs": [],
   "source": [
    "from matplotlib import pyplot as plt "
   ]
  },
  {
   "cell_type": "code",
   "execution_count": 18,
   "id": "e0ce88df-99b0-4edb-8907-66ed833fc522",
   "metadata": {},
   "outputs": [
    {
     "data": {
      "text/plain": [
       "np.float64(3.0)"
      ]
     },
     "execution_count": 18,
     "metadata": {},
     "output_type": "execute_result"
    }
   ],
   "source": [
    "df_prod_purchases[\"count\"].quantile(q=0.8)"
   ]
  },
  {
   "cell_type": "markdown",
   "id": "418eff51-2bde-4e62-a3b0-8328d698d0c8",
   "metadata": {},
   "source": [
    "## Filter and Aggregate Steps for Product Data"
   ]
  },
  {
   "cell_type": "code",
   "execution_count": 19,
   "id": "19d4f3bc-8814-419a-a548-33bfad7108f6",
   "metadata": {},
   "outputs": [],
   "source": [
    "df_prod_purchases = df_prod_purchases.sort_values(by=\"count\", ascending=False)\n",
    "fp_prod_purch = \"../data/olist_prepared/olist_2_year_prod_purchases.csv\"\n",
    "df_prod_purchases[\"rank\"] = df_prod_purchases.index + 1\n",
    "df_prod_purchases.to_csv(fp_prod_purch, index=False)"
   ]
  },
  {
   "cell_type": "code",
   "execution_count": 20,
   "id": "1f48a5d6-69fc-4c3e-a90a-b102059b5b1e",
   "metadata": {},
   "outputs": [
    {
     "data": {
      "text/html": [
       "<div>\n",
       "<style scoped>\n",
       "    .dataframe tbody tr th:only-of-type {\n",
       "        vertical-align: middle;\n",
       "    }\n",
       "\n",
       "    .dataframe tbody tr th {\n",
       "        vertical-align: top;\n",
       "    }\n",
       "\n",
       "    .dataframe thead th {\n",
       "        text-align: right;\n",
       "    }\n",
       "</style>\n",
       "<table border=\"1\" class=\"dataframe\">\n",
       "  <thead>\n",
       "    <tr style=\"text-align: right;\">\n",
       "      <th></th>\n",
       "      <th>product_id</th>\n",
       "      <th>count</th>\n",
       "      <th>rank</th>\n",
       "    </tr>\n",
       "  </thead>\n",
       "  <tbody>\n",
       "    <tr>\n",
       "      <th>0</th>\n",
       "      <td>aca2eb7d00ea1a7b8ebd4e68314663af</td>\n",
       "      <td>527</td>\n",
       "      <td>1</td>\n",
       "    </tr>\n",
       "    <tr>\n",
       "      <th>1</th>\n",
       "      <td>99a4788cb24856965c36a24e339b6058</td>\n",
       "      <td>488</td>\n",
       "      <td>2</td>\n",
       "    </tr>\n",
       "    <tr>\n",
       "      <th>2</th>\n",
       "      <td>422879e10f46682990de24d770e7f83d</td>\n",
       "      <td>484</td>\n",
       "      <td>3</td>\n",
       "    </tr>\n",
       "    <tr>\n",
       "      <th>3</th>\n",
       "      <td>389d119b48cf3043d311335e499d9c6b</td>\n",
       "      <td>392</td>\n",
       "      <td>4</td>\n",
       "    </tr>\n",
       "    <tr>\n",
       "      <th>4</th>\n",
       "      <td>368c6c730842d78016ad823897a372db</td>\n",
       "      <td>388</td>\n",
       "      <td>5</td>\n",
       "    </tr>\n",
       "    <tr>\n",
       "      <th>5</th>\n",
       "      <td>53759a2ecddad2bb87a079a1f1519f73</td>\n",
       "      <td>373</td>\n",
       "      <td>6</td>\n",
       "    </tr>\n",
       "    <tr>\n",
       "      <th>6</th>\n",
       "      <td>d1c427060a0f73f6b889a5c7c61f2ac4</td>\n",
       "      <td>343</td>\n",
       "      <td>7</td>\n",
       "    </tr>\n",
       "    <tr>\n",
       "      <th>7</th>\n",
       "      <td>53b36df67ebb7c41585e8d54d6772e08</td>\n",
       "      <td>323</td>\n",
       "      <td>8</td>\n",
       "    </tr>\n",
       "    <tr>\n",
       "      <th>8</th>\n",
       "      <td>154e7e31ebfa092203795c972e5804a6</td>\n",
       "      <td>281</td>\n",
       "      <td>9</td>\n",
       "    </tr>\n",
       "    <tr>\n",
       "      <th>9</th>\n",
       "      <td>3dd2a17168ec895c781a9191c1e95ad7</td>\n",
       "      <td>274</td>\n",
       "      <td>10</td>\n",
       "    </tr>\n",
       "    <tr>\n",
       "      <th>10</th>\n",
       "      <td>2b4609f8948be18874494203496bc318</td>\n",
       "      <td>260</td>\n",
       "      <td>11</td>\n",
       "    </tr>\n",
       "    <tr>\n",
       "      <th>11</th>\n",
       "      <td>7c1bd920dbdf22470b68bde975dd3ccf</td>\n",
       "      <td>231</td>\n",
       "      <td>12</td>\n",
       "    </tr>\n",
       "    <tr>\n",
       "      <th>12</th>\n",
       "      <td>a62e25e09e05e6faf31d90c6ec1aa3d1</td>\n",
       "      <td>226</td>\n",
       "      <td>13</td>\n",
       "    </tr>\n",
       "    <tr>\n",
       "      <th>13</th>\n",
       "      <td>5a848e4ab52fd5445cdc07aab1c40e48</td>\n",
       "      <td>197</td>\n",
       "      <td>14</td>\n",
       "    </tr>\n",
       "    <tr>\n",
       "      <th>14</th>\n",
       "      <td>bb50f2e236e5eea0100680137654686c</td>\n",
       "      <td>195</td>\n",
       "      <td>15</td>\n",
       "    </tr>\n",
       "    <tr>\n",
       "      <th>15</th>\n",
       "      <td>e0d64dcfaa3b6db5c54ca298ae101d05</td>\n",
       "      <td>194</td>\n",
       "      <td>16</td>\n",
       "    </tr>\n",
       "    <tr>\n",
       "      <th>16</th>\n",
       "      <td>42a2c92a0979a949ca4ea89ec5c7b934</td>\n",
       "      <td>183</td>\n",
       "      <td>17</td>\n",
       "    </tr>\n",
       "    <tr>\n",
       "      <th>17</th>\n",
       "      <td>e53e557d5a159f5aa2c5e995dfdf244b</td>\n",
       "      <td>183</td>\n",
       "      <td>18</td>\n",
       "    </tr>\n",
       "    <tr>\n",
       "      <th>18</th>\n",
       "      <td>b532349fe46b38fbc7bb3914c1bdae07</td>\n",
       "      <td>169</td>\n",
       "      <td>19</td>\n",
       "    </tr>\n",
       "    <tr>\n",
       "      <th>19</th>\n",
       "      <td>35afc973633aaeb6b877ff57b2793310</td>\n",
       "      <td>165</td>\n",
       "      <td>20</td>\n",
       "    </tr>\n",
       "  </tbody>\n",
       "</table>\n",
       "</div>"
      ],
      "text/plain": [
       "                          product_id  count  rank\n",
       "0   aca2eb7d00ea1a7b8ebd4e68314663af    527     1\n",
       "1   99a4788cb24856965c36a24e339b6058    488     2\n",
       "2   422879e10f46682990de24d770e7f83d    484     3\n",
       "3   389d119b48cf3043d311335e499d9c6b    392     4\n",
       "4   368c6c730842d78016ad823897a372db    388     5\n",
       "5   53759a2ecddad2bb87a079a1f1519f73    373     6\n",
       "6   d1c427060a0f73f6b889a5c7c61f2ac4    343     7\n",
       "7   53b36df67ebb7c41585e8d54d6772e08    323     8\n",
       "8   154e7e31ebfa092203795c972e5804a6    281     9\n",
       "9   3dd2a17168ec895c781a9191c1e95ad7    274    10\n",
       "10  2b4609f8948be18874494203496bc318    260    11\n",
       "11  7c1bd920dbdf22470b68bde975dd3ccf    231    12\n",
       "12  a62e25e09e05e6faf31d90c6ec1aa3d1    226    13\n",
       "13  5a848e4ab52fd5445cdc07aab1c40e48    197    14\n",
       "14  bb50f2e236e5eea0100680137654686c    195    15\n",
       "15  e0d64dcfaa3b6db5c54ca298ae101d05    194    16\n",
       "16  42a2c92a0979a949ca4ea89ec5c7b934    183    17\n",
       "17  e53e557d5a159f5aa2c5e995dfdf244b    183    18\n",
       "18  b532349fe46b38fbc7bb3914c1bdae07    169    19\n",
       "19  35afc973633aaeb6b877ff57b2793310    165    20"
      ]
     },
     "execution_count": 20,
     "metadata": {},
     "output_type": "execute_result"
    }
   ],
   "source": [
    "df_prod_purchases.head(20)"
   ]
  },
  {
   "cell_type": "code",
   "execution_count": 21,
   "id": "3bde8ffd-0671-4636-9b30-b4e5c70432ba",
   "metadata": {},
   "outputs": [
    {
     "data": {
      "text/plain": [
       "(138,)"
      ]
     },
     "execution_count": 21,
     "metadata": {},
     "output_type": "execute_result"
    }
   ],
   "source": [
    "df_prod_purchases[\"count\"].unique().shape"
   ]
  },
  {
   "cell_type": "code",
   "execution_count": 22,
   "id": "ccdb48d2-cadb-48ba-844d-bc3e3064ad08",
   "metadata": {},
   "outputs": [],
   "source": [
    "df_cust_order_count = df_daily_ord_raw.groupby([\"customer_id\"])[\"order_id\"].count().reset_index()"
   ]
  },
  {
   "cell_type": "code",
   "execution_count": 23,
   "id": "180fffc7-e585-49d9-a3d4-74b0a2759f0a",
   "metadata": {},
   "outputs": [],
   "source": [
    "df_cust_order_count.columns = [\"customer_id\", \"order_count\"]"
   ]
  },
  {
   "cell_type": "code",
   "execution_count": 24,
   "id": "c5cf8eab-58b7-49c5-b374-2eaa0a363bbb",
   "metadata": {},
   "outputs": [],
   "source": [
    "df_cust_order_count = df_cust_order_count.sort_values(by=\"order_count\", ascending=False).reset_index()"
   ]
  }
 ],
 "metadata": {
  "kernelspec": {
   "display_name": "Python 3 (ipykernel)",
   "language": "python",
   "name": "python3"
  },
  "language_info": {
   "codemirror_mode": {
    "name": "ipython",
    "version": 3
   },
   "file_extension": ".py",
   "mimetype": "text/x-python",
   "name": "python",
   "nbconvert_exporter": "python",
   "pygments_lexer": "ipython3",
   "version": "3.13.3"
  }
 },
 "nbformat": 4,
 "nbformat_minor": 5
}
