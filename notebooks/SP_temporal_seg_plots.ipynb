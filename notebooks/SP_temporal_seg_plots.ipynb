{
 "cells": [
  {
   "cell_type": "code",
   "execution_count": null,
   "id": "cc2c5748-7eb8-460b-8543-6b5c79f54c47",
   "metadata": {},
   "outputs": [],
   "source": [
    "import pandas as pd\n",
    "import plotly.express as px"
   ]
  },
  {
   "cell_type": "markdown",
   "id": "22c231c1-2992-4dcb-9b32-2c4b97b5efa6",
   "metadata": {},
   "source": [
    "## Computations for each period\n",
    "1. Compute the average revenue per order for each year\n",
    "2. Compute the average revenue per week for each year\n",
    "3. Compute the number of weeks for which we have data each year - missingness\n",
    "## Visualizations for each period\n",
    "1. Weekly store revenue and the number of orders that week\n",
    "2. Histogram of weekly store revenue for each year - changes in patterns will show up as multiple histogram modes\n",
    "   "
   ]
  },
  {
   "cell_type": "code",
   "execution_count": null,
   "id": "919d7592-5579-4df6-af7a-c988a05fa02b",
   "metadata": {},
   "outputs": [],
   "source": [
    "fp_weekly_revenue = \"../data/olist_prepared/SP_weekly_revenue.csv\"\n",
    "df = pd.read_csv(fp_weekly_revenue)\n",
    "df_2017 = df[df.year == 2017]"
   ]
  },
  {
   "cell_type": "code",
   "execution_count": null,
   "id": "fe263cfa-bb67-4c82-a92b-d593a461ea28",
   "metadata": {},
   "outputs": [],
   "source": [
    "fig = px.scatter(df_2017, x=\"woy\", y=\"weekly_revenue\")\n",
    "fig.update_traces(textposition=\"bottom right\")\n",
    "fig.update_layout(title=\"Weekly Revenue in SP for Olist in 2017\")\n",
    "fig.show()"
   ]
  },
  {
   "cell_type": "code",
   "execution_count": null,
   "id": "547fed87-3fae-417c-b261-2feaff7278bb",
   "metadata": {},
   "outputs": [],
   "source": []
  }
 ],
 "metadata": {
  "language_info": {
   "name": "python"
  }
 },
 "nbformat": 4,
 "nbformat_minor": 5
}
