{
 "cells": [
  {
   "cell_type": "code",
   "execution_count": null,
   "id": "e2eefb77-67e0-4d3f-b065-0c7f56f63cd4",
   "metadata": {},
   "outputs": [],
   "source": [
    "import pandas as pd\n",
    "fp = \"../data/olist_prepared/SP_CS_2017.csv\"\n",
    "df = pd.read_csv(fp)\n",
    "week_cols = df.columns.tolist()"
   ]
  },
  {
   "cell_type": "code",
   "execution_count": null,
   "id": "1cec7fe5-db9e-4d37-aa4d-d7539da7888d",
   "metadata": {},
   "outputs": [],
   "source": [
    "fpp = \"../data/olist_prepared/freq_prod_weekly_sale_SP_2017.parquet\"\n",
    "dfpp = pd.read_parquet(fpp)"
   ]
  },
  {
   "cell_type": "code",
   "execution_count": null,
   "id": "5e6b50c1-5950-47e7-b886-5b337b092eb1",
   "metadata": {},
   "outputs": [],
   "source": [
    "\n",
    "from sklearn.manifold import spectral_embedding\n",
    "X = df.values\n",
    "embedding = spectral_embedding(X, n_components=2, random_state=42)\n",
    "embedding.shape"
   ]
  },
  {
   "cell_type": "code",
   "execution_count": null,
   "id": "f567f69a-af9f-45f8-be6e-7ebbb11895ae",
   "metadata": {},
   "outputs": [],
   "source": [
    "df_emb = pd.DataFrame(embedding)\n",
    "df_emb.columns = [\"spe-c1\", \"spe-c2\"]"
   ]
  },
  {
   "cell_type": "code",
   "execution_count": null,
   "id": "b1a73cee-8687-455f-abcc-bf853b9bb73e",
   "metadata": {},
   "outputs": [],
   "source": [
    "import plotly.express as px\n",
    "fig = px.scatter(\n",
    "    df_emb,\n",
    "    x=\"spe-c1\",\n",
    "    y=\"spe-c2\",\n",
    "    title=\"Scatter Plot with Labels and Colors\",\n",
    ")\n",
    "\n",
    "# Update text position\n",
    "fig.update_traces(textposition=\"top center\")\n",
    "\n",
    "# Show the plot\n",
    "fig.show()"
   ]
  },
  {
   "cell_type": "code",
   "execution_count": null,
   "id": "75fa3c08-b6a3-4db8-8e53-dc241e0e97a4",
   "metadata": {},
   "outputs": [],
   "source": []
  }
 ],
 "metadata": {
  "language_info": {
   "name": "python"
  }
 },
 "nbformat": 4,
 "nbformat_minor": 5
}
